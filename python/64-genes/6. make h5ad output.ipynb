{
 "cells": [
  {
   "cell_type": "markdown",
   "id": "wicked-intent",
   "metadata": {},
   "source": [
    "# H5AD output"
   ]
  },
  {
   "cell_type": "code",
   "execution_count": 1,
   "id": "genuine-console",
   "metadata": {},
   "outputs": [],
   "source": [
    "# Loading the Packages\n",
    "\n",
    "%load_ext autoreload\n",
    "%autoreload 2\n",
    "\n",
    "import os\n",
    "import warnings \n",
    "warnings.filterwarnings('ignore')\n",
    "import numpy as np\n",
    "import pandas as pd\n",
    "import scanpy as sc\n",
    "import seaborn as sns\n",
    "from skimage.filters import threshold_otsu, gaussian\n",
    "from skimage.morphology import remove_small_objects\n",
    "\n",
    "from starmap.obj import STARMapDataset, load_data\n",
    "import starmap.analyze as anz\n",
    "import starmap.viz as viz\n",
    "import starmap.sc_util as su\n",
    "import matplotlib.pyplot as plt\n",
    "from matplotlib.colors import ListedColormap\n",
    "\n",
    "# test\n",
    "from starmap.utilities import *\n",
    "from starmap.sequencing import *\n",
    "from anndata import AnnData\n",
    "\n",
    "# test()"
   ]
  },
  {
   "cell_type": "code",
   "execution_count": 57,
   "id": "auburn-medicaid",
   "metadata": {},
   "outputs": [],
   "source": [
    "# Set path\n",
    "base_path = './'\n",
    "out_path = os.path.join(base_path, 'output')\n",
    "\n",
    "expr_path = os.path.join(out_path, 'complete_cell_barcode_count.csv')\n",
    "var_path = os.path.join(out_path, 'cell_barcode_names.csv')\n",
    "obs_path = os.path.join(out_path, 'complete_meta.csv')\n",
    "\n",
    "# add expression data to the AnnData object \n",
    "expr_x = np.loadtxt(expr_path, delimiter=',')\n",
    "var = pd.read_csv(var_path, header=None)\n",
    "var = pd.DataFrame(index=var.iloc[:,2].to_list())\n",
    "obs = pd.read_csv(obs_path, index_col=0)\n",
    "\n",
    "vdata = AnnData(X=expr_x, var=var, obs=obs)"
   ]
  },
  {
   "cell_type": "code",
   "execution_count": 58,
   "id": "tight-copying",
   "metadata": {},
   "outputs": [
    {
     "data": {
      "text/plain": [
       "AnnData object with n_obs × n_vars = 40952 × 64\n",
       "    obs: 'orig_index', 'sample', 'area', 'tau', 'gfap', 'x', 'y'"
      ]
     },
     "execution_count": 58,
     "metadata": {},
     "output_type": "execute_result"
    }
   ],
   "source": [
    "vdata"
   ]
  },
  {
   "cell_type": "markdown",
   "id": "dutch-belly",
   "metadata": {},
   "source": [
    "## Add more meta info"
   ]
  },
  {
   "cell_type": "code",
   "execution_count": 29,
   "id": "medical-police",
   "metadata": {},
   "outputs": [
    {
     "ename": "IndexingError",
     "evalue": "(1         True\n3         True\n4         True\n5         True\n6         True\n         ...  \n40944    False\n40945    False\n40946    False\n40947    False\n40949    False\nName: sample, Length: 36625, dtype: bool, 'batch')",
     "output_type": "error",
     "traceback": [
      "\u001b[0;31m---------------------------------------------------------------------------\u001b[0m",
      "\u001b[0;31mTypeError\u001b[0m                                 Traceback (most recent call last)",
      "\u001b[0;32m~/anaconda3/envs/bio37/lib/python3.7/site-packages/pandas/core/indexing.py\u001b[0m in \u001b[0;36m_get_setitem_indexer\u001b[0;34m(self, key)\u001b[0m\n\u001b[1;32m    635\u001b[0m         \u001b[0;32mtry\u001b[0m\u001b[0;34m:\u001b[0m\u001b[0;34m\u001b[0m\u001b[0;34m\u001b[0m\u001b[0m\n\u001b[0;32m--> 636\u001b[0;31m             \u001b[0;32mreturn\u001b[0m \u001b[0mself\u001b[0m\u001b[0;34m.\u001b[0m\u001b[0m_convert_to_indexer\u001b[0m\u001b[0;34m(\u001b[0m\u001b[0mkey\u001b[0m\u001b[0;34m,\u001b[0m \u001b[0maxis\u001b[0m\u001b[0;34m=\u001b[0m\u001b[0;36m0\u001b[0m\u001b[0;34m,\u001b[0m \u001b[0mis_setter\u001b[0m\u001b[0;34m=\u001b[0m\u001b[0;32mTrue\u001b[0m\u001b[0;34m)\u001b[0m\u001b[0;34m\u001b[0m\u001b[0;34m\u001b[0m\u001b[0m\n\u001b[0m\u001b[1;32m    637\u001b[0m         \u001b[0;32mexcept\u001b[0m \u001b[0mTypeError\u001b[0m \u001b[0;32mas\u001b[0m \u001b[0me\u001b[0m\u001b[0;34m:\u001b[0m\u001b[0;34m\u001b[0m\u001b[0;34m\u001b[0m\u001b[0m\n",
      "\u001b[0;32m~/anaconda3/envs/bio37/lib/python3.7/site-packages/pandas/core/indexing.py\u001b[0m in \u001b[0;36m_convert_to_indexer\u001b[0;34m(self, key, axis, is_setter)\u001b[0m\n\u001b[1;32m   1211\u001b[0m                 \u001b[0;31m# When setting, missing keys are not allowed, even with .loc:\u001b[0m\u001b[0;34m\u001b[0m\u001b[0;34m\u001b[0m\u001b[0;34m\u001b[0m\u001b[0m\n\u001b[0;32m-> 1212\u001b[0;31m                 \u001b[0;32mreturn\u001b[0m \u001b[0mself\u001b[0m\u001b[0;34m.\u001b[0m\u001b[0m_get_listlike_indexer\u001b[0m\u001b[0;34m(\u001b[0m\u001b[0mkey\u001b[0m\u001b[0;34m,\u001b[0m \u001b[0maxis\u001b[0m\u001b[0;34m,\u001b[0m \u001b[0mraise_missing\u001b[0m\u001b[0;34m=\u001b[0m\u001b[0;32mTrue\u001b[0m\u001b[0;34m)\u001b[0m\u001b[0;34m[\u001b[0m\u001b[0;36m1\u001b[0m\u001b[0;34m]\u001b[0m\u001b[0;34m\u001b[0m\u001b[0;34m\u001b[0m\u001b[0m\n\u001b[0m\u001b[1;32m   1213\u001b[0m         \u001b[0;32melse\u001b[0m\u001b[0;34m:\u001b[0m\u001b[0;34m\u001b[0m\u001b[0;34m\u001b[0m\u001b[0m\n",
      "\u001b[0;32m~/anaconda3/envs/bio37/lib/python3.7/site-packages/pandas/core/indexing.py\u001b[0m in \u001b[0;36m_get_listlike_indexer\u001b[0;34m(self, key, axis, raise_missing)\u001b[0m\n\u001b[1;32m   1260\u001b[0m         \u001b[0;32mif\u001b[0m \u001b[0max\u001b[0m\u001b[0;34m.\u001b[0m\u001b[0m_index_as_unique\u001b[0m\u001b[0;34m:\u001b[0m\u001b[0;34m\u001b[0m\u001b[0;34m\u001b[0m\u001b[0m\n\u001b[0;32m-> 1261\u001b[0;31m             \u001b[0mindexer\u001b[0m \u001b[0;34m=\u001b[0m \u001b[0max\u001b[0m\u001b[0;34m.\u001b[0m\u001b[0mget_indexer_for\u001b[0m\u001b[0;34m(\u001b[0m\u001b[0mkeyarr\u001b[0m\u001b[0;34m)\u001b[0m\u001b[0;34m\u001b[0m\u001b[0;34m\u001b[0m\u001b[0m\n\u001b[0m\u001b[1;32m   1262\u001b[0m             \u001b[0mkeyarr\u001b[0m \u001b[0;34m=\u001b[0m \u001b[0max\u001b[0m\u001b[0;34m.\u001b[0m\u001b[0mreindex\u001b[0m\u001b[0;34m(\u001b[0m\u001b[0mkeyarr\u001b[0m\u001b[0;34m)\u001b[0m\u001b[0;34m[\u001b[0m\u001b[0;36m0\u001b[0m\u001b[0;34m]\u001b[0m\u001b[0;34m\u001b[0m\u001b[0;34m\u001b[0m\u001b[0m\n",
      "\u001b[0;32m~/anaconda3/envs/bio37/lib/python3.7/site-packages/pandas/core/indexes/base.py\u001b[0m in \u001b[0;36mget_indexer_for\u001b[0;34m(self, target, **kwargs)\u001b[0m\n\u001b[1;32m   4959\u001b[0m         \u001b[0;32mif\u001b[0m \u001b[0mself\u001b[0m\u001b[0;34m.\u001b[0m\u001b[0m_index_as_unique\u001b[0m\u001b[0;34m:\u001b[0m\u001b[0;34m\u001b[0m\u001b[0;34m\u001b[0m\u001b[0m\n\u001b[0;32m-> 4960\u001b[0;31m             \u001b[0;32mreturn\u001b[0m \u001b[0mself\u001b[0m\u001b[0;34m.\u001b[0m\u001b[0mget_indexer\u001b[0m\u001b[0;34m(\u001b[0m\u001b[0mtarget\u001b[0m\u001b[0;34m,\u001b[0m \u001b[0;34m**\u001b[0m\u001b[0mkwargs\u001b[0m\u001b[0;34m)\u001b[0m\u001b[0;34m\u001b[0m\u001b[0;34m\u001b[0m\u001b[0m\n\u001b[0m\u001b[1;32m   4961\u001b[0m         \u001b[0mindexer\u001b[0m\u001b[0;34m,\u001b[0m \u001b[0m_\u001b[0m \u001b[0;34m=\u001b[0m \u001b[0mself\u001b[0m\u001b[0;34m.\u001b[0m\u001b[0mget_indexer_non_unique\u001b[0m\u001b[0;34m(\u001b[0m\u001b[0mtarget\u001b[0m\u001b[0;34m)\u001b[0m\u001b[0;34m\u001b[0m\u001b[0;34m\u001b[0m\u001b[0m\n",
      "\u001b[0;32m~/anaconda3/envs/bio37/lib/python3.7/site-packages/pandas/core/indexes/base.py\u001b[0m in \u001b[0;36mget_indexer\u001b[0;34m(self, target, method, limit, tolerance)\u001b[0m\n\u001b[1;32m   3190\u001b[0m \u001b[0;34m\u001b[0m\u001b[0m\n\u001b[0;32m-> 3191\u001b[0;31m             \u001b[0mindexer\u001b[0m \u001b[0;34m=\u001b[0m \u001b[0mself\u001b[0m\u001b[0;34m.\u001b[0m\u001b[0m_engine\u001b[0m\u001b[0;34m.\u001b[0m\u001b[0mget_indexer\u001b[0m\u001b[0;34m(\u001b[0m\u001b[0mtarget\u001b[0m\u001b[0;34m.\u001b[0m\u001b[0m_get_engine_target\u001b[0m\u001b[0;34m(\u001b[0m\u001b[0;34m)\u001b[0m\u001b[0;34m)\u001b[0m\u001b[0;34m\u001b[0m\u001b[0;34m\u001b[0m\u001b[0m\n\u001b[0m\u001b[1;32m   3192\u001b[0m \u001b[0;34m\u001b[0m\u001b[0m\n",
      "\u001b[0;32mpandas/_libs/index.pyx\u001b[0m in \u001b[0;36mpandas._libs.index.IndexEngine.get_indexer\u001b[0;34m()\u001b[0m\n",
      "\u001b[0;32mpandas/_libs/hashtable_class_helper.pxi\u001b[0m in \u001b[0;36mpandas._libs.hashtable.PyObjectHashTable.lookup\u001b[0;34m()\u001b[0m\n",
      "\u001b[0;32m~/anaconda3/envs/bio37/lib/python3.7/site-packages/pandas/core/generic.py\u001b[0m in \u001b[0;36m__hash__\u001b[0;34m(self)\u001b[0m\n\u001b[1;32m   1785\u001b[0m         raise TypeError(\n\u001b[0;32m-> 1786\u001b[0;31m             \u001b[0;34mf\"{repr(type(self).__name__)} objects are mutable, \"\u001b[0m\u001b[0;34m\u001b[0m\u001b[0;34m\u001b[0m\u001b[0m\n\u001b[0m\u001b[1;32m   1787\u001b[0m             \u001b[0;34mf\"thus they cannot be hashed\"\u001b[0m\u001b[0;34m\u001b[0m\u001b[0;34m\u001b[0m\u001b[0m\n",
      "\u001b[0;31mTypeError\u001b[0m: 'Series' objects are mutable, thus they cannot be hashed",
      "\nThe above exception was the direct cause of the following exception:\n",
      "\u001b[0;31mIndexingError\u001b[0m                             Traceback (most recent call last)",
      "\u001b[0;32m<ipython-input-29-0640ea50581a>\u001b[0m in \u001b[0;36m<module>\u001b[0;34m\u001b[0m\n\u001b[1;32m      1\u001b[0m \u001b[0;31m# add batch information\u001b[0m\u001b[0;34m\u001b[0m\u001b[0;34m\u001b[0m\u001b[0;34m\u001b[0m\u001b[0m\n\u001b[0;32m----> 2\u001b[0;31m \u001b[0mvdata\u001b[0m\u001b[0;34m.\u001b[0m\u001b[0mobs\u001b[0m\u001b[0;34m.\u001b[0m\u001b[0mloc\u001b[0m\u001b[0;34m[\u001b[0m\u001b[0madata\u001b[0m\u001b[0;34m.\u001b[0m\u001b[0mobs\u001b[0m\u001b[0;34m[\u001b[0m\u001b[0;34m'sample'\u001b[0m\u001b[0;34m]\u001b[0m \u001b[0;34m==\u001b[0m \u001b[0;34m'AD_mouse9721'\u001b[0m\u001b[0;34m,\u001b[0m \u001b[0;34m'batch'\u001b[0m\u001b[0;34m]\u001b[0m \u001b[0;34m=\u001b[0m \u001b[0;34m'batch_1'\u001b[0m\u001b[0;34m\u001b[0m\u001b[0;34m\u001b[0m\u001b[0m\n\u001b[0m\u001b[1;32m      3\u001b[0m \u001b[0mvdata\u001b[0m\u001b[0;34m.\u001b[0m\u001b[0mobs\u001b[0m\u001b[0;34m.\u001b[0m\u001b[0mloc\u001b[0m\u001b[0;34m[\u001b[0m\u001b[0madata\u001b[0m\u001b[0;34m.\u001b[0m\u001b[0mobs\u001b[0m\u001b[0;34m[\u001b[0m\u001b[0;34m'sample'\u001b[0m\u001b[0;34m]\u001b[0m \u001b[0;34m==\u001b[0m \u001b[0;34m'AD_mouse9781'\u001b[0m\u001b[0;34m,\u001b[0m \u001b[0;34m'batch'\u001b[0m\u001b[0;34m]\u001b[0m \u001b[0;34m=\u001b[0m \u001b[0;34m'batch_1'\u001b[0m\u001b[0;34m\u001b[0m\u001b[0;34m\u001b[0m\u001b[0m\n\u001b[1;32m      4\u001b[0m \u001b[0mvdata\u001b[0m\u001b[0;34m.\u001b[0m\u001b[0mobs\u001b[0m\u001b[0;34m.\u001b[0m\u001b[0mloc\u001b[0m\u001b[0;34m[\u001b[0m\u001b[0madata\u001b[0m\u001b[0;34m.\u001b[0m\u001b[0mobs\u001b[0m\u001b[0;34m[\u001b[0m\u001b[0;34m'sample'\u001b[0m\u001b[0;34m]\u001b[0m \u001b[0;34m==\u001b[0m \u001b[0;34m'AD_mouse9919'\u001b[0m\u001b[0;34m,\u001b[0m \u001b[0;34m'batch'\u001b[0m\u001b[0;34m]\u001b[0m \u001b[0;34m=\u001b[0m \u001b[0;34m'batch_2'\u001b[0m\u001b[0;34m\u001b[0m\u001b[0;34m\u001b[0m\u001b[0m\n\u001b[1;32m      5\u001b[0m \u001b[0mvdata\u001b[0m\u001b[0;34m.\u001b[0m\u001b[0mobs\u001b[0m\u001b[0;34m.\u001b[0m\u001b[0mloc\u001b[0m\u001b[0;34m[\u001b[0m\u001b[0madata\u001b[0m\u001b[0;34m.\u001b[0m\u001b[0mobs\u001b[0m\u001b[0;34m[\u001b[0m\u001b[0;34m'sample'\u001b[0m\u001b[0;34m]\u001b[0m \u001b[0;34m==\u001b[0m \u001b[0;34m'AD_mouse9930'\u001b[0m\u001b[0;34m,\u001b[0m \u001b[0;34m'batch'\u001b[0m\u001b[0;34m]\u001b[0m \u001b[0;34m=\u001b[0m \u001b[0;34m'batch_2'\u001b[0m\u001b[0;34m\u001b[0m\u001b[0;34m\u001b[0m\u001b[0m\n",
      "\u001b[0;32m~/anaconda3/envs/bio37/lib/python3.7/site-packages/pandas/core/indexing.py\u001b[0m in \u001b[0;36m__setitem__\u001b[0;34m(self, key, value)\u001b[0m\n\u001b[1;32m    686\u001b[0m         \u001b[0;32melse\u001b[0m\u001b[0;34m:\u001b[0m\u001b[0;34m\u001b[0m\u001b[0;34m\u001b[0m\u001b[0m\n\u001b[1;32m    687\u001b[0m             \u001b[0mkey\u001b[0m \u001b[0;34m=\u001b[0m \u001b[0mcom\u001b[0m\u001b[0;34m.\u001b[0m\u001b[0mapply_if_callable\u001b[0m\u001b[0;34m(\u001b[0m\u001b[0mkey\u001b[0m\u001b[0;34m,\u001b[0m \u001b[0mself\u001b[0m\u001b[0;34m.\u001b[0m\u001b[0mobj\u001b[0m\u001b[0;34m)\u001b[0m\u001b[0;34m\u001b[0m\u001b[0;34m\u001b[0m\u001b[0m\n\u001b[0;32m--> 688\u001b[0;31m         \u001b[0mindexer\u001b[0m \u001b[0;34m=\u001b[0m \u001b[0mself\u001b[0m\u001b[0;34m.\u001b[0m\u001b[0m_get_setitem_indexer\u001b[0m\u001b[0;34m(\u001b[0m\u001b[0mkey\u001b[0m\u001b[0;34m)\u001b[0m\u001b[0;34m\u001b[0m\u001b[0;34m\u001b[0m\u001b[0m\n\u001b[0m\u001b[1;32m    689\u001b[0m         \u001b[0mself\u001b[0m\u001b[0;34m.\u001b[0m\u001b[0m_has_valid_setitem_indexer\u001b[0m\u001b[0;34m(\u001b[0m\u001b[0mkey\u001b[0m\u001b[0;34m)\u001b[0m\u001b[0;34m\u001b[0m\u001b[0;34m\u001b[0m\u001b[0m\n\u001b[1;32m    690\u001b[0m \u001b[0;34m\u001b[0m\u001b[0m\n",
      "\u001b[0;32m~/anaconda3/envs/bio37/lib/python3.7/site-packages/pandas/core/indexing.py\u001b[0m in \u001b[0;36m_get_setitem_indexer\u001b[0;34m(self, key)\u001b[0m\n\u001b[1;32m    642\u001b[0m             \u001b[0;32melif\u001b[0m \u001b[0;34m\"unhashable type\"\u001b[0m \u001b[0;32min\u001b[0m \u001b[0mstr\u001b[0m\u001b[0;34m(\u001b[0m\u001b[0me\u001b[0m\u001b[0;34m)\u001b[0m\u001b[0;34m:\u001b[0m\u001b[0;34m\u001b[0m\u001b[0;34m\u001b[0m\u001b[0m\n\u001b[1;32m    643\u001b[0m                 \u001b[0;32mraise\u001b[0m\u001b[0;34m\u001b[0m\u001b[0;34m\u001b[0m\u001b[0m\n\u001b[0;32m--> 644\u001b[0;31m             \u001b[0;32mraise\u001b[0m \u001b[0mIndexingError\u001b[0m\u001b[0;34m(\u001b[0m\u001b[0mkey\u001b[0m\u001b[0;34m)\u001b[0m \u001b[0;32mfrom\u001b[0m \u001b[0me\u001b[0m\u001b[0;34m\u001b[0m\u001b[0;34m\u001b[0m\u001b[0m\n\u001b[0m\u001b[1;32m    645\u001b[0m \u001b[0;34m\u001b[0m\u001b[0m\n\u001b[1;32m    646\u001b[0m     \u001b[0;32mdef\u001b[0m \u001b[0m_ensure_listlike_indexer\u001b[0m\u001b[0;34m(\u001b[0m\u001b[0mself\u001b[0m\u001b[0;34m,\u001b[0m \u001b[0mkey\u001b[0m\u001b[0;34m,\u001b[0m \u001b[0maxis\u001b[0m\u001b[0;34m=\u001b[0m\u001b[0;32mNone\u001b[0m\u001b[0;34m,\u001b[0m \u001b[0mvalue\u001b[0m\u001b[0;34m=\u001b[0m\u001b[0;32mNone\u001b[0m\u001b[0;34m)\u001b[0m\u001b[0;34m:\u001b[0m\u001b[0;34m\u001b[0m\u001b[0;34m\u001b[0m\u001b[0m\n",
      "\u001b[0;31mIndexingError\u001b[0m: (1         True\n3         True\n4         True\n5         True\n6         True\n         ...  \n40944    False\n40945    False\n40946    False\n40947    False\n40949    False\nName: sample, Length: 36625, dtype: bool, 'batch')"
     ]
    }
   ],
   "source": [
    "# add batch information \n",
    "vdata.obs.loc[adata.obs['sample'] == 'AD_mouse9721', 'batch'] = 'batch_1'\n",
    "vdata.obs.loc[adata.obs['sample'] == 'AD_mouse9781', 'batch'] = 'batch_1'\n",
    "vdata.obs.loc[adata.obs['sample'] == 'AD_mouse9919', 'batch'] = 'batch_2'\n",
    "vdata.obs.loc[adata.obs['sample'] == 'AD_mouse9930', 'batch'] = 'batch_2'\n",
    "\n",
    "# add time information \n",
    "vdata.obs.loc[adata.obs['sample'] == 'AD_mouse9721', 'time'] = '8_months'\n",
    "vdata.obs.loc[adata.obs['sample'] == 'AD_mouse9781', 'time'] = '8_months'\n",
    "vdata.obs.loc[adata.obs['sample'] == 'AD_mouse9919', 'time'] = '13_months'\n",
    "vdata.obs.loc[adata.obs['sample'] == 'AD_mouse9930', 'time'] = '13_months'\n",
    "\n",
    "# add group information \n",
    "vdata.obs.loc[adata.obs['sample'] == 'AD_mouse9721', 'group'] = 'disease'\n",
    "vdata.obs.loc[adata.obs['sample'] == 'AD_mouse9781', 'group'] = 'control'\n",
    "vdata.obs.loc[adata.obs['sample'] == 'AD_mouse9919', 'group'] = 'disease'\n",
    "vdata.obs.loc[adata.obs['sample'] == 'AD_mouse9930', 'group'] = 'control'\n",
    "\n",
    "# change dtype\n",
    "vdata.obs['sample'] = vdata.obs['sample'].astype('category')\n",
    "vdata.obs['sample'] = vdata.obs['sample'].cat.reorder_categories(['AD_mouse9781', 'AD_mouse9721', 'AD_mouse9930', 'AD_mouse9919'])\n",
    "\n",
    "vdata.obs['batch'] = vdata.obs['batch'].astype('category')\n",
    "vdata.obs['batch'] = vdata.obs['batch'].cat.reorder_categories(['batch_1', 'batch_2'])\n",
    "\n",
    "vdata.obs['time'] = vdata.obs['time'].astype('category')\n",
    "vdata.obs['time'] = vdata.obs['time'].cat.reorder_categories(['8_months', '13_months'])\n",
    "\n",
    "vdata.obs['group'] = vdata.obs['group'].astype('category')"
   ]
  },
  {
   "cell_type": "markdown",
   "id": "loved-intention",
   "metadata": {},
   "source": [
    "## Filtration"
   ]
  },
  {
   "cell_type": "code",
   "execution_count": 59,
   "id": "personalized-walnut",
   "metadata": {},
   "outputs": [
    {
     "data": {
      "image/png": "[encoded data removed]",
      "text/plain": [
       "<Figure size 720x360 with 2 Axes>"
      ]
     },
     "metadata": {
      "needs_background": "light"
     },
     "output_type": "display_data"
    },
    {
     "name": "stderr",
     "output_type": "stream",
     "text": [
      "Trying to set attribute `.obs` of view, copying.\n"
     ]
    },
    {
     "name": "stdout",
     "output_type": "stream",
     "text": [
      "Number of cell left: 40824\n"
     ]
    },
    {
     "data": {
      "text/plain": [
       "(36625, 13)"
      ]
     },
     "execution_count": 59,
     "metadata": {},
     "output_type": "execute_result"
    }
   ],
   "source": [
    "# Calculate QC metrics\n",
    "sc.pp.calculate_qc_metrics(vdata, percent_top=None, inplace=True)\n",
    "vdata.var['max_counts'] = vdata.X.max(axis=0)\n",
    "\n",
    "# Filter cell by area \n",
    "vdata = su.filter_cells_by_area(vdata, min_area=1000, max_area=100000, save=False)\n",
    "\n",
    "# Filtration \n",
    "sc.pp.filter_cells(vdata, min_genes=10)\n",
    "sc.pp.filter_genes(vdata, min_cells=10)\n",
    "\n",
    "sc.pp.filter_cells(vdata, min_counts=73)\n",
    "sc.pp.filter_cells(vdata, max_counts=1500)\n",
    "\n",
    "vdata.obs.shape"
   ]
  },
  {
   "cell_type": "markdown",
   "id": "indirect-fitting",
   "metadata": {},
   "source": [
    "## Add prediction "
   ]
  },
  {
   "cell_type": "code",
   "execution_count": 16,
   "id": "mental-glance",
   "metadata": {},
   "outputs": [
    {
     "data": {
      "text/plain": [
       "AnnData object with n_obs × n_vars = 33106 × 2112\n",
       "    obs: 'orig_index', 'sample', 'area', 'tau', 'x', 'y', 'batch', 'time', 'group', 'n_genes_by_counts', 'log1p_n_genes_by_counts', 'total_counts', 'log1p_total_counts', 'n_genes', 'n_counts', 'leiden', '__is_in_cluster__', 'top_level', 'cell_type', 'region', 'cell_type_label'\n",
       "    var: 'n_cells_by_counts', 'mean_counts', 'log1p_mean_counts', 'pct_dropout_by_counts', 'total_counts', 'log1p_total_counts', 'max_counts', 'n_cells', 'mean', 'std'\n",
       "    uns: 'AD_mouse9494_morph', 'AD_mouse9498_morph', 'AD_mouse9723_morph', 'AD_mouse9735_morph', 'cell_type_label', 'cell_type_order', 'label_hex_dict', 'label_rgb_dict', 'sub_hex_dict', 'sub_rgb_dict', 'top_hex_dict', 'top_level_order', 'top_rgb_dict'"
      ]
     },
     "execution_count": 16,
     "metadata": {},
     "output_type": "execute_result"
    }
   ],
   "source": [
    "adata = sc.read_h5ad('../2020-10-09-mAD-reads-assignment/output/2020-12-27-starmap-mAD-raw.h5ad')\n",
    "adata"
   ]
  },
  {
   "cell_type": "code",
   "execution_count": 17,
   "id": "similar-calgary",
   "metadata": {},
   "outputs": [],
   "source": [
    "# load predictions \n",
    "# top-level\n",
    "prediction_top_level = pd.read_csv('output/integration/predicted_top_level.csv')\n",
    "\n",
    "vdata.obs['predicted_top_level'] = prediction_top_level['predicted.id'].values\n",
    "vdata.obs['predicted_top_level_score'] = prediction_top_level['prediction.score.max'].values\n",
    "\n",
    "# cell-type\n",
    "prediction_cell_type = pd.read_csv('output/integration/predicted_cell_type.csv')\n",
    "\n",
    "vdata.obs['predicted_cell_type'] = prediction_cell_type['predicted.id'].values\n",
    "vdata.obs['predicted_cell_type_score'] = prediction_cell_type['prediction.score.max'].values\n",
    "\n",
    "# cell-type-label\n",
    "prediction_cell_type_label = pd.read_csv('output/integration/predicted_cell_type_label.csv')\n",
    "\n",
    "vdata.obs['predicted_cell_type_label'] = prediction_cell_type_label['predicted.id'].values\n",
    "vdata.obs['predicted_cell_type_label_score'] = prediction_cell_type_label['prediction.score.max'].values"
   ]
  },
  {
   "cell_type": "code",
   "execution_count": 18,
   "id": "widespread-harbor",
   "metadata": {},
   "outputs": [],
   "source": [
    "vdata.uns['top_level_order'] = adata.uns['top_level_order']\n",
    "vdata.uns['top_hex_dict'] = adata.uns['top_hex_dict']\n",
    "vdata.uns['top_rgb_dict'] = adata.uns['top_rgb_dict']\n",
    "\n",
    "vdata.uns['cell_type_order'] = adata.uns['cell_type_order']\n",
    "vdata.uns['sub_hex_dict'] = adata.uns['sub_hex_dict']\n",
    "vdata.uns['sub_rgb_dict'] = adata.uns['sub_rgb_dict']\n",
    "\n",
    "vdata.uns['cell_type_label'] = adata.uns['cell_type_label']\n",
    "vdata.uns['label_hex_dict'] = adata.uns['label_hex_dict']\n",
    "vdata.uns['label_rgb_dict'] = adata.uns['label_rgb_dict']"
   ]
  },
  {
   "cell_type": "code",
   "execution_count": 19,
   "id": "sought-brooklyn",
   "metadata": {},
   "outputs": [],
   "source": [
    "vdata.obs['predicted_top_level'] = vdata.obs['predicted_top_level'].astype('category')\n",
    "vdata.obs['predicted_top_level'] = vdata.obs['predicted_top_level'].cat.reorder_categories(vdata.uns['top_level_order'])\n",
    "\n",
    "current_cell_type_order = [c for c in vdata.uns['cell_type_order'] if c in vdata.obs['predicted_cell_type'].unique()]\n",
    "vdata.obs['predicted_cell_type'] = vdata.obs['predicted_cell_type'].astype('category')\n",
    "vdata.obs['predicted_cell_type'] = vdata.obs['predicted_cell_type'].cat.reorder_categories(current_cell_type_order)\n",
    "\n",
    "current_cell_label_order = [c for c in vdata.uns['cell_type_label'] if c in vdata.obs['predicted_cell_type_label'].unique()]\n",
    "vdata.obs['predicted_cell_type_label'] = vdata.obs['predicted_cell_type_label'].astype('category')\n",
    "vdata.obs['predicted_cell_type_label'] = vdata.obs['predicted_cell_type_label'].cat.reorder_categories(current_cell_label_order)"
   ]
  },
  {
   "cell_type": "markdown",
   "id": "cleared-rally",
   "metadata": {},
   "source": [
    "## Add obs"
   ]
  },
  {
   "cell_type": "code",
   "execution_count": 60,
   "id": "facial-macro",
   "metadata": {},
   "outputs": [
    {
     "data": {
      "text/plain": [
       "AnnData object with n_obs × n_vars = 36625 × 64\n",
       "    obs: 'orig_index', 'sample', 'area', 'tau', 'gfap', 'x', 'y', 'batch', 'time', 'group', 'n_genes_by_counts', 'log1p_n_genes_by_counts', 'total_counts', 'log1p_total_counts', 'n_genes', 'n_counts', 'predicted_top_level', 'predicted_top_level_score', 'predicted_cell_type', 'predicted_cell_type_score', 'predicted_cell_type_label', 'predicted_cell_type_label_score', 'leiden', 'top_level'\n",
       "    var: 'n_cells_by_counts', 'mean_counts', 'log1p_mean_counts', 'pct_dropout_by_counts', 'total_counts', 'log1p_total_counts', 'max_counts', 'n_cells', 'mean', 'std'\n",
       "    uns: 'AD_mouse9721_morph', 'AD_mouse9781_morph', 'AD_mouse9919_morph', 'AD_mouse9930_morph', 'batch_colors', 'cell_type_label', 'cell_type_order', 'group_colors', 'label_hex_dict', 'label_rgb_dict', 'leiden', 'leiden_colors', 'neighbors', 'pca', 'predicted_top_level_colors', 'rank_genes_groups', 'sample_colors', 'sub_hex_dict', 'sub_rgb_dict', 'time_colors', 'top_hex_dict', 'top_hex_dict_64', 'top_level_colors', 'top_level_order', 'top_level_order_64', 'top_rgb_dict', 'top_rgb_dict_64', 'umap'\n",
       "    obsm: 'X_pca', 'X_umap'\n",
       "    varm: 'PCs'\n",
       "    layers: 'corrected', 'scaled'\n",
       "    obsp: 'connectivities', 'distances'"
      ]
     },
     "execution_count": 60,
     "metadata": {},
     "output_type": "execute_result"
    }
   ],
   "source": [
    "adata = sc.read_h5ad('./output/2021-04-12-starmap-mAD-64-genes-scaled.h5ad')\n",
    "adata"
   ]
  },
  {
   "cell_type": "code",
   "execution_count": 61,
   "id": "color-average",
   "metadata": {},
   "outputs": [],
   "source": [
    "vdata.obs = adata.obs\n",
    "vdata.var = adata.var\n",
    "vdata.uns = adata.uns"
   ]
  },
  {
   "cell_type": "code",
   "execution_count": 62,
   "id": "swiss-requirement",
   "metadata": {},
   "outputs": [],
   "source": [
    "vdata.uns['top_hex_dict_64']['Mix'] = '#ededed'\n",
    "vdata.uns['top_rgb_dict_64']['Mix'] = np.array([0.9294117647058824, 0.9294117647058824, 0.9294117647058824])"
   ]
  },
  {
   "cell_type": "code",
   "execution_count": 63,
   "id": "focused-scratch",
   "metadata": {},
   "outputs": [
    {
     "name": "stdout",
     "output_type": "stream",
     "text": [
      "AD_mouse9721\n",
      "AD_mouse9781\n",
      "AD_mouse9919\n",
      "AD_mouse9930\n"
     ]
    }
   ],
   "source": [
    "# Update tau \n",
    "for sample in sorted(vdata.obs['sample'].unique()):\n",
    "    print(sample)\n",
    "    current_key = f\"{sample}_morph\"\n",
    "    labels = vdata.uns[current_key]['label_img']\n",
    "    tau = vdata.uns[current_key]['tau'] > 1\n",
    "    current_index = vdata.obs.loc[vdata.obs['sample'] == sample, 'orig_index'].values\n",
    "    tau_intensity = []\n",
    "    for i, region in enumerate(regionprops(labels)):\n",
    "        # print(region.label)\n",
    "        if i in current_index:\n",
    "            # tau intensity\n",
    "            curr_intensity = np.sum(tau[region.coords[:, 0], region.coords[:, 1]])\n",
    "            curr_intensity = curr_intensity / region.area * 100\n",
    "            tau_intensity.append(round(curr_intensity, 2))\n",
    "    vdata.obs.loc[vdata.obs['sample'] == sample, 'tau'] = tau_intensity"
   ]
  },
  {
   "cell_type": "markdown",
   "id": "passing-ranking",
   "metadata": {},
   "source": [
    "## Add images"
   ]
  },
  {
   "cell_type": "code",
   "execution_count": 21,
   "id": "revolutionary-texas",
   "metadata": {},
   "outputs": [
    {
     "name": "stdout",
     "output_type": "stream",
     "text": [
      "AD_mouse9721\n",
      "AD_mouse9781\n",
      "AD_mouse9919\n",
      "AD_mouse9930\n"
     ]
    }
   ],
   "source": [
    "# Load data and store the information to uns\n",
    "for sample in sorted(vdata.obs['sample'].unique()):\n",
    "    print(sample)\n",
    "    \n",
    "    # Segmentation\n",
    "    current_seg_path = os.path.join(sample, 'scaled/labeled_cells.tif')\n",
    "    current_img = tifffile.imread(current_seg_path)\n",
    "    \n",
    "    # Plaque\n",
    "    current_plaque_path = os.path.join(sample, 'scaled/plaque.tif')\n",
    "    current_plaque = tifffile.imread(current_plaque_path)\n",
    "    current_plaque = gaussian(current_plaque.astype(np.float), 2) > 30\n",
    "    # current_plaque = remove_small_objects(current_plaque, min_size=64, connectivity=4)\n",
    "    \n",
    "    # Tau\n",
    "    current_tau_path = os.path.join(sample, 'scaled/tau.tif')\n",
    "    current_tau = tifffile.imread(current_tau_path)\n",
    "    current_tau = gaussian(current_tau.astype(np.float), 2) > 30\n",
    "        \n",
    "        \n",
    "    # Load Gfap img\n",
    "    current_gfap_path = os.path.join(sample, 'scaled/Gfap.tif')\n",
    "    current_gfap = tifffile.imread(current_gfap_path)\n",
    "    gfap_threshold = threshold_otsu(current_gfap)\n",
    "    current_gfap = gaussian(current_gfap.astype(np.float), 1) > gfap_threshold\n",
    "\n",
    "#     # Region\n",
    "#     current_region_path = os.path.join(sample, 'segmentation/scaled/bill-labels.tif')\n",
    "#     current_region_img = tifffile.imread(current_region_path)\n",
    "\n",
    "    # Morph\n",
    "    current_key = f\"{sample}_morph\"\n",
    "    vdata.uns[current_key] = {}\n",
    "    vdata.uns[current_key]['label_img'] = current_img\n",
    "    vdata.uns[current_key]['plaque'] = current_plaque\n",
    "    vdata.uns[current_key]['tau'] = current_tau\n",
    "    vdata.uns[current_key]['gfap'] = current_gfap\n",
    "#     vdata.uns[current_key]['region'] = current_region_img"
   ]
  },
  {
   "cell_type": "code",
   "execution_count": 22,
   "id": "public-ladder",
   "metadata": {},
   "outputs": [],
   "source": [
    "# Scale x and y \n",
    "vdata.obs['x'] = vdata.obs['x'] * .3\n",
    "vdata.obs['x'] = vdata.obs['x'].astype(int)\n",
    "vdata.obs['y'] = vdata.obs['y'] * .3\n",
    "vdata.obs['y'] = vdata.obs['y'].astype(int)"
   ]
  },
  {
   "cell_type": "code",
   "execution_count": 23,
   "id": "adjusted-failing",
   "metadata": {},
   "outputs": [
    {
     "data": {
      "text/plain": [
       "AnnData object with n_obs × n_vars = 36625 × 64\n",
       "    obs: 'orig_index', 'sample', 'area', 'tau', 'gfap', 'x', 'y', 'batch', 'time', 'group', 'n_genes_by_counts', 'log1p_n_genes_by_counts', 'total_counts', 'log1p_total_counts', 'n_genes', 'n_counts', 'predicted_top_level', 'predicted_top_level_score', 'predicted_cell_type', 'predicted_cell_type_score', 'predicted_cell_type_label', 'predicted_cell_type_label_score'\n",
       "    var: 'n_cells_by_counts', 'mean_counts', 'log1p_mean_counts', 'pct_dropout_by_counts', 'total_counts', 'log1p_total_counts', 'max_counts', 'n_cells'\n",
       "    uns: 'top_level_order', 'top_hex_dict', 'top_rgb_dict', 'cell_type_order', 'sub_hex_dict', 'sub_rgb_dict', 'cell_type_label', 'label_hex_dict', 'label_rgb_dict', 'AD_mouse9721_morph', 'AD_mouse9781_morph', 'AD_mouse9919_morph', 'AD_mouse9930_morph'"
      ]
     },
     "execution_count": 23,
     "metadata": {},
     "output_type": "execute_result"
    }
   ],
   "source": [
    "vdata"
   ]
  },
  {
   "cell_type": "markdown",
   "id": "accomplished-slovak",
   "metadata": {},
   "source": [
    "## Save raw"
   ]
  },
  {
   "cell_type": "code",
   "execution_count": 64,
   "id": "earned-shift",
   "metadata": {},
   "outputs": [],
   "source": [
    "# Save\n",
    "vdata.write_h5ad('./output/2021-04-14-starmap-mAD-64-genes-raw.h5ad')"
   ]
  },
  {
   "cell_type": "markdown",
   "id": "mechanical-hierarchy",
   "metadata": {},
   "source": [
    "## Normalization & Scaling"
   ]
  },
  {
   "cell_type": "code",
   "execution_count": 65,
   "id": "inside-cargo",
   "metadata": {},
   "outputs": [],
   "source": [
    "# Normalization scaling\n",
    "sc.pp.normalize_total(vdata)\n",
    "sc.pp.log1p(vdata)\n",
    "\n",
    "vdata.raw = vdata"
   ]
  },
  {
   "cell_type": "code",
   "execution_count": 66,
   "id": "bottom-encoding",
   "metadata": {},
   "outputs": [],
   "source": [
    "# Scale data to unit variance and zero mean\n",
    "sc.pp.scale(vdata)\n",
    "vdata.layers['scaled'] = vdata.X\n",
    "\n",
    "# Batch correction\n",
    "sc.pp.combat(vdata)\n",
    "vdata.layers['corrected'] = vdata.X"
   ]
  },
  {
   "cell_type": "markdown",
   "id": "prescription-paint",
   "metadata": {},
   "source": [
    "## Save scaled"
   ]
  },
  {
   "cell_type": "code",
   "execution_count": 67,
   "id": "velvet-james",
   "metadata": {},
   "outputs": [],
   "source": [
    "# Save\n",
    "vdata.write_h5ad('./output/2021-04-14-starmap-mAD-64-genes-scaled.h5ad')"
   ]
  },
  {
   "cell_type": "code",
   "execution_count": null,
   "id": "separated-honduras",
   "metadata": {},
   "outputs": [],
   "source": []
  }
 ],
 "metadata": {
  "kernelspec": {
   "display_name": "Python 3",
   "language": "python",
   "name": "python3"
  },
  "language_info": {
   "codemirror_mode": {
    "name": "ipython",
    "version": 3
   },
   "file_extension": ".py",
   "mimetype": "text/x-python",
   "name": "python",
   "nbconvert_exporter": "python",
   "pygments_lexer": "ipython3",
   "version": "3.7.10"
  }
 },
 "nbformat": 4,
 "nbformat_minor": 5
}
