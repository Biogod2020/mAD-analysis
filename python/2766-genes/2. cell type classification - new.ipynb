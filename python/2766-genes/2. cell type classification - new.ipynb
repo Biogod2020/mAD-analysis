{
 "cells": [
  {
   "cell_type": "markdown",
   "id": "changing-martial",
   "metadata": {},
   "source": [
    "# Cell type classification\n",
    "\n",
    "2021-04-15"
   ]
  },
  {
   "cell_type": "code",
   "execution_count": 1,
   "id": "civil-stable",
   "metadata": {},
   "outputs": [],
   "source": [
    "# Import Packages\n",
    "\n",
    "%load_ext autoreload\n",
    "%autoreload 2\n",
    "\n",
    "import os\n",
    "import warnings \n",
    "warnings.filterwarnings('ignore')\n",
    "import numpy as np\n",
    "import pandas as pd\n",
    "import scanpy as sc\n",
    "import seaborn as sns\n",
    "import matplotlib.pyplot as plt\n",
    "from skimage.filters import threshold_otsu, gaussian\n",
    "from skimage.morphology import remove_small_objects\n",
    "from matplotlib.colors import ListedColormap\n",
    "from anndata import AnnData\n",
    "\n",
    "# Customized packages\n",
    "from starmap.utilities import *\n",
    "from starmap.sequencing import *\n",
    "from starmap.obj import STARMapDataset, load_data\n",
    "import starmap.analyze as anz\n",
    "import starmap.viz as viz\n",
    "import starmap.sc_util as su\n",
    "\n",
    "\n",
    "# test()"
   ]
  },
  {
   "cell_type": "code",
   "execution_count": 2,
   "id": "atlantic-element",
   "metadata": {
    "tags": []
   },
   "outputs": [],
   "source": [
    "# Get functions \n",
    "\n",
    "import colorsys\n",
    "from random import shuffle\n",
    "\n",
    "def intervals(parts, start_point, end_point):\n",
    "    duration = end_point - start_point\n",
    "    part_duration = duration / parts\n",
    "    return [((i * part_duration + (i + 1) * part_duration)/2) + start_point for i in range(parts)]"
   ]
  },
  {
   "cell_type": "markdown",
   "id": "activated-unknown",
   "metadata": {},
   "source": [
    "## Input"
   ]
  },
  {
   "cell_type": "code",
   "execution_count": 3,
   "id": "sealed-highway",
   "metadata": {},
   "outputs": [],
   "source": [
    "# Set path\n",
    "base_path = './'\n",
    "out_path = os.path.join(base_path, 'output')\n",
    "fig_path = os.path.join(base_path, 'figures')\n",
    "if not os.path.exists(fig_path):\n",
    "    os.mkdir(fig_path)\n",
    "\n",
    "expr_path = os.path.join(out_path, 'complete_cell_barcode_count.csv')\n",
    "var_path = os.path.join(out_path, 'cell_barcode_names.csv')\n",
    "obs_path = os.path.join(out_path, 'complete_meta.csv')\n",
    "\n",
    "# Add expression data to the AnnData object \n",
    "expr_x = np.loadtxt(expr_path, delimiter=',')\n",
    "var = pd.read_csv(var_path, header=None)\n",
    "var = pd.DataFrame(index=var.iloc[:,2].to_list())\n",
    "obs = pd.read_csv(obs_path, index_col=0)\n",
    "\n",
    "adata = AnnData(X=expr_x, var=var, obs=obs)"
   ]
  },
  {
   "cell_type": "code",
   "execution_count": 4,
   "id": "miniature-international",
   "metadata": {},
   "outputs": [],
   "source": [
    "# Add additional metadata\n",
    "\n",
    "# add batch information \n",
    "adata.obs.loc[adata.obs['sample'] == 'AD_mouse9723', 'batch'] = 'batch_1'\n",
    "adata.obs.loc[adata.obs['sample'] == 'AD_mouse9735', 'batch'] = 'batch_1'\n",
    "adata.obs.loc[adata.obs['sample'] == 'AD_mouse9494', 'batch'] = 'batch_2'\n",
    "adata.obs.loc[adata.obs['sample'] == 'AD_mouse9498', 'batch'] = 'batch_2'\n",
    "\n",
    "# add time information \n",
    "adata.obs.loc[adata.obs['sample'] == 'AD_mouse9723', 'time'] = '8_months'\n",
    "adata.obs.loc[adata.obs['sample'] == 'AD_mouse9735', 'time'] = '8_months'\n",
    "adata.obs.loc[adata.obs['sample'] == 'AD_mouse9494', 'time'] = '13_months'\n",
    "adata.obs.loc[adata.obs['sample'] == 'AD_mouse9498', 'time'] = '13_months'\n",
    "\n",
    "# add group information \n",
    "adata.obs.loc[adata.obs['sample'] == 'AD_mouse9723', 'group'] = 'disease'\n",
    "adata.obs.loc[adata.obs['sample'] == 'AD_mouse9735', 'group'] = 'control'\n",
    "adata.obs.loc[adata.obs['sample'] == 'AD_mouse9494', 'group'] = 'disease'\n",
    "adata.obs.loc[adata.obs['sample'] == 'AD_mouse9498', 'group'] = 'control'\n",
    "\n",
    "# change dtype\n",
    "adata.obs['sample'] = adata.obs['sample'].astype('category')\n",
    "adata.obs['sample'] = adata.obs['sample'].cat.reorder_categories(['AD_mouse9735', 'AD_mouse9723', 'AD_mouse9498', 'AD_mouse9494'])\n",
    "\n",
    "adata.obs['batch'] = adata.obs['batch'].astype('category')\n",
    "adata.obs['batch'] = adata.obs['batch'].cat.reorder_categories(['batch_1', 'batch_2'])\n",
    "\n",
    "adata.obs['time'] = adata.obs['time'].astype('category')\n",
    "adata.obs['time'] = adata.obs['time'].cat.reorder_categories(['8_months', '13_months'])\n",
    "\n",
    "adata.obs['group'] = adata.obs['group'].astype('category')"
   ]
  },
  {
   "cell_type": "code",
   "execution_count": 5,
   "id": "received-particle",
   "metadata": {},
   "outputs": [
    {
     "data": {
      "text/plain": [
       "AnnData object with n_obs × n_vars = 37067 × 2766\n",
       "    obs: 'orig_index', 'sample', 'area', 'tau', 'x', 'y', 'batch', 'time', 'group'"
      ]
     },
     "execution_count": 5,
     "metadata": {},
     "output_type": "execute_result"
    }
   ],
   "source": [
    "# Preview adata\n",
    "adata"
   ]
  },
  {
   "cell_type": "code",
   "execution_count": 6,
   "id": "supreme-ecology",
   "metadata": {},
   "outputs": [
    {
     "data": {
      "text/plain": [
       "disease    19932\n",
       "control    17135\n",
       "Name: group, dtype: int64"
      ]
     },
     "execution_count": 6,
     "metadata": {},
     "output_type": "execute_result"
    }
   ],
   "source": [
    "adata.obs['group'].value_counts()"
   ]
  },
  {
   "cell_type": "code",
   "execution_count": 7,
   "id": "absent-disposal",
   "metadata": {},
   "outputs": [
    {
     "data": {
      "text/plain": [
       "AD_mouse9494    10743\n",
       "AD_mouse9723     9189\n",
       "AD_mouse9735     8896\n",
       "AD_mouse9498     8239\n",
       "Name: sample, dtype: int64"
      ]
     },
     "execution_count": 7,
     "metadata": {},
     "output_type": "execute_result"
    }
   ],
   "source": [
    "adata.obs['sample'].value_counts()"
   ]
  },
  {
   "cell_type": "markdown",
   "id": "academic-jewelry",
   "metadata": {},
   "source": [
    "## Preprocessing"
   ]
  },
  {
   "cell_type": "code",
   "execution_count": 8,
   "id": "collective-behavior",
   "metadata": {},
   "outputs": [
    {
     "name": "stderr",
     "output_type": "stream",
     "text": [
      "WARNING: Some cells have total count of genes equal to zero\n"
     ]
    },
    {
     "data": {
      "image/png": "[encoded data removed]",
      "text/plain": [
       "<Figure size 360x396 with 1 Axes>"
      ]
     },
     "metadata": {
      "needs_background": "light"
     },
     "output_type": "display_data"
    }
   ],
   "source": [
    "# Plot top 20 most expressed genes \n",
    "sc.pl.highest_expr_genes(adata, n_top=20)"
   ]
  },
  {
   "cell_type": "code",
   "execution_count": 9,
   "id": "confirmed-anchor",
   "metadata": {},
   "outputs": [],
   "source": [
    "# Calculate QC metrics\n",
    "sc.pp.calculate_qc_metrics(adata, percent_top=None, inplace=True)\n",
    "# Calculate max count for each gene\n",
    "adata.var['max_counts'] = adata.X.max(axis=0)"
   ]
  },
  {
   "cell_type": "code",
   "execution_count": 10,
   "id": "detailed-packing",
   "metadata": {},
   "outputs": [
    {
     "data": {
      "image/png": "[encoded data removed]",
      "text/plain": [
       "<Figure size 720x360 with 2 Axes>"
      ]
     },
     "metadata": {
      "needs_background": "light"
     },
     "output_type": "display_data"
    },
    {
     "name": "stdout",
     "output_type": "stream",
     "text": [
      "Number of cell left: 37041\n"
     ]
    }
   ],
   "source": [
    "# Filter cell by area \n",
    "adata = su.filter_cells_by_area(adata, min_area=1000, max_area=100000, save=False)"
   ]
  },
  {
   "cell_type": "code",
   "execution_count": 11,
   "id": "rolled-proof",
   "metadata": {},
   "outputs": [
    {
     "data": {
      "image/png": "[encoded data removed]",
      "text/plain": [
       "<Figure size 1080x360 with 3 Axes>"
      ]
     },
     "metadata": {
      "needs_background": "light"
     },
     "output_type": "display_data"
    }
   ],
   "source": [
    "# Per-cell Stats Plot\n",
    "su.plot_stats_per_cell(adata, save=False)"
   ]
  },
  {
   "cell_type": "code",
   "execution_count": 12,
   "id": "objective-luxembourg",
   "metadata": {},
   "outputs": [
    {
     "name": "stdout",
     "output_type": "stream",
     "text": [
      "Reads per cell quantile:\n",
      "0.10     68.0\n",
      "0.25    118.0\n",
      "0.50    191.0\n",
      "0.75    289.0\n",
      "0.90    398.0\n",
      "Name: total_counts, dtype: float64\n"
     ]
    }
   ],
   "source": [
    "# Get quantiles of reads\n",
    "su.show_reads_quantile(adata)"
   ]
  },
  {
   "cell_type": "code",
   "execution_count": 13,
   "id": "pointed-apollo",
   "metadata": {},
   "outputs": [
    {
     "name": "stderr",
     "output_type": "stream",
     "text": [
      "Trying to set attribute `.obs` of view, copying.\n"
     ]
    },
    {
     "data": {
      "text/plain": [
       "(33391, 2766)"
      ]
     },
     "execution_count": 13,
     "metadata": {},
     "output_type": "execute_result"
    }
   ],
   "source": [
    "# Get a copy of meta data\n",
    "meta = adata.obs.copy()\n",
    "\n",
    "# Filtration \n",
    "sc.pp.filter_cells(adata, min_genes=10)\n",
    "sc.pp.filter_genes(adata, min_cells=10)\n",
    "\n",
    "# Filter gene by max counts \n",
    "adata = adata[:, adata.var['max_counts'] > 2]\n",
    "# adata.var['detected'] = adata.var['max_counts'] > 2\n",
    "# adata.var['highly_variable'] = adata.var['max_counts'] > 2\n",
    "\n",
    "sc.pp.filter_cells(adata, min_counts=68)\n",
    "sc.pp.filter_cells(adata, max_counts=1500)\n",
    "\n",
    "adata.layers['raw'] = adata.X\n",
    "adata.X.shape"
   ]
  },
  {
   "cell_type": "code",
   "execution_count": 14,
   "id": "unsigned-carol",
   "metadata": {},
   "outputs": [],
   "source": [
    "# Normalization scaling\n",
    "sc.pp.normalize_total(adata)\n",
    "sc.pp.log1p(adata)\n",
    "\n",
    "adata.layers['norm'] = adata.X\n",
    "adata.raw = adata"
   ]
  },
  {
   "cell_type": "code",
   "execution_count": 15,
   "id": "through-japanese",
   "metadata": {},
   "outputs": [],
   "source": [
    "# Scale data to unit variance and zero mean\n",
    "sc.pp.scale(adata)\n",
    "adata.layers['scaled'] = adata.X\n",
    "\n",
    "# Batch correction\n",
    "sc.pp.combat(adata)\n",
    "adata.layers['corrected'] = adata.X"
   ]
  },
  {
   "cell_type": "code",
   "execution_count": 16,
   "id": "speaking-watson",
   "metadata": {},
   "outputs": [
    {
     "data": {
      "text/plain": [
       "AnnData object with n_obs × n_vars = 33391 × 2766\n",
       "    obs: 'orig_index', 'sample', 'area', 'tau', 'x', 'y', 'batch', 'time', 'group', 'n_genes_by_counts', 'log1p_n_genes_by_counts', 'total_counts', 'log1p_total_counts', 'n_genes', 'n_counts'\n",
       "    var: 'n_cells_by_counts', 'mean_counts', 'log1p_mean_counts', 'pct_dropout_by_counts', 'total_counts', 'log1p_total_counts', 'max_counts', 'n_cells', 'highly_variable', 'mean', 'std'\n",
       "    uns: 'log1p'\n",
       "    layers: 'raw', 'norm', 'scaled', 'corrected'"
      ]
     },
     "execution_count": 16,
     "metadata": {},
     "output_type": "execute_result"
    }
   ],
   "source": [
    "adata"
   ]
  },
  {
   "cell_type": "markdown",
   "id": "applicable-helping",
   "metadata": {},
   "source": [
    "## Top-level clustering"
   ]
  },
  {
   "cell_type": "code",
   "execution_count": null,
   "id": "reduced-skill",
   "metadata": {},
   "outputs": [],
   "source": [
    "# Run PCA\n",
    "sc.tl.pca(adata, svd_solver='arpack', use_highly_variable=True)\n",
    "\n",
    "# Plot explained variance \n",
    "sc.pl.pca_variance_ratio(adata, log=False)"
   ]
  },
  {
   "cell_type": "code",
   "execution_count": null,
   "id": "labeled-helping",
   "metadata": {},
   "outputs": [],
   "source": [
    "# Plot PCA\n",
    "sc.pl.pca(adata, color='batch')\n",
    "sc.pl.pca(adata, color='sample')\n",
    "sc.pl.pca(adata, color='group')"
   ]
  },
  {
   "cell_type": "code",
   "execution_count": null,
   "id": "planned-county",
   "metadata": {},
   "outputs": [],
   "source": [
    "%%time\n",
    "# Computing the neighborhood graph\n",
    "n_neighbors = 50\n",
    "n_pcs = 30\n",
    "    \n",
    "sc.pp.neighbors(adata, n_neighbors=n_neighbors, n_pcs=n_pcs)\n",
    "\n",
    "# Run UMAP\n",
    "sc.tl.umap(adata)"
   ]
  },
  {
   "cell_type": "code",
   "execution_count": null,
   "id": "heated-lightning",
   "metadata": {},
   "outputs": [],
   "source": [
    "%%time\n",
    "# Run leiden cluster\n",
    "cluster_resolution = 1\n",
    "sc.tl.leiden(adata, resolution = cluster_resolution)\n",
    "\n",
    "# Plot UMAP with cluster labels \n",
    "sc.pl.umap(adata, color='leiden')\n",
    "n_clusters = adata.obs['leiden'].unique().shape[0]\n",
    "\n",
    "# Save log\n",
    "with open(f'./figures/log.txt', 'w') as f:\n",
    "    f.write(f\"\"\"Number of neighbor: {n_neighbors}\n",
    "Number of PC: {n_pcs}\n",
    "Resolution: {cluster_resolution}\n",
    "Number of clusters: {n_clusters}\"\"\")"
   ]
  },
  {
   "cell_type": "code",
   "execution_count": null,
   "id": "peaceful-sitting",
   "metadata": {},
   "outputs": [],
   "source": [
    "# Get colormap\n",
    "cluster_pl = sns.color_palette(\"Set3\", n_clusters)\n",
    "cluster_cmap = ListedColormap(cluster_pl.as_hex())\n",
    "sns.palplot(cluster_pl)"
   ]
  },
  {
   "cell_type": "code",
   "execution_count": null,
   "id": "painted-comparative",
   "metadata": {},
   "outputs": [],
   "source": [
    "# Plot UMAP with cluster labels w/ new color\n",
    "sc.pl.umap(adata, color='leiden', legend_loc='on data',\n",
    "           legend_fontsize=12, legend_fontoutline=2, frameon=False, \n",
    "           title='Top level clustering (leiden)', palette=cluster_pl, save=False)"
   ]
  },
  {
   "cell_type": "code",
   "execution_count": null,
   "id": "velvet-virgin",
   "metadata": {},
   "outputs": [],
   "source": [
    "# Get markers for each cluster\n",
    "sc.tl.rank_genes_groups(adata, 'leiden', method='wilcoxon')\n",
    "\n",
    "# Plot z-score heatmap\n",
    "sc.pl.rank_genes_groups_heatmap(adata, n_genes=10, min_logfoldchange=1, use_raw=False, swap_axes=True, \n",
    "                                vmin=-5, vmax=5, cmap='bwr', show_gene_labels=True,\n",
    "                                dendrogram=False, figsize=(30, 15), save=False)"
   ]
  },
  {
   "cell_type": "code",
   "execution_count": null,
   "id": "south-morrison",
   "metadata": {},
   "outputs": [],
   "source": [
    "# Print markers \n",
    "markers = []\n",
    "temp = pd.DataFrame(adata.uns['rank_genes_groups']['names']).head(5)\n",
    "for i in range(temp.shape[1]):\n",
    "    curr_col = temp.iloc[:, i].to_list()\n",
    "    markers = markers + curr_col\n",
    "    print(i, curr_col)\n"
   ]
  },
  {
   "cell_type": "markdown",
   "id": "breathing-hollow",
   "metadata": {},
   "source": [
    "## Morphology"
   ]
  },
  {
   "cell_type": "code",
   "execution_count": null,
   "id": "facial-quarterly",
   "metadata": {},
   "outputs": [],
   "source": [
    "# Load data and store the information to uns (use scaled version to save computational time)\n",
    "for sample in sorted(adata.obs['sample'].unique()):\n",
    "    print(sample)\n",
    "    \n",
    "    # Load segmentation\n",
    "    current_seg_path = os.path.join(sample, 'scaled/labeled_cells.tif')\n",
    "    current_img = tifffile.imread(current_seg_path)\n",
    "    \n",
    "    # Load plaque image\n",
    "    current_plaque_path = os.path.join(sample, 'scaled/plaque.tif')\n",
    "    current_plaque = tifffile.imread(current_plaque_path)\n",
    "    # uniform manual threshold \n",
    "    current_plaque = gaussian(current_plaque.astype(np.float), 2) > 30\n",
    "    # current_plaque = remove_small_objects(current_plaque, min_size=64, connectivity=4)\n",
    "    \n",
    "    # Load tau image\n",
    "    current_tau_path = os.path.join(sample, 'scaled/tau_mask.tif')\n",
    "    current_tau = tifffile.imread(current_tau_path)\n",
    "\n",
    "    # Store the images to adata object\n",
    "    current_key = f\"{sample}_morph\"\n",
    "    adata.uns[current_key] = {}\n",
    "    adata.uns[current_key]['label_img'] = current_img\n",
    "    adata.uns[current_key]['plaque'] = current_plaque\n",
    "    adata.uns[current_key]['tau'] = current_tau"
   ]
  },
  {
   "cell_type": "code",
   "execution_count": null,
   "id": "contemporary-miami",
   "metadata": {},
   "outputs": [],
   "source": [
    "# Extract spatial information and store the information to uns\n",
    "for sample in sorted(adata.obs['sample'].unique()):\n",
    "    print(sample)\n",
    "    \n",
    "    current_key = f\"{sample}_morph\"\n",
    "    adata.uns[current_key]['qhulls'], adata.uns[current_key]['coords'], adata.uns[current_key]['centroids'] = su.get_qhulls(current_img)"
   ]
  },
  {
   "cell_type": "code",
   "execution_count": null,
   "id": "centered-doctor",
   "metadata": {},
   "outputs": [],
   "source": [
    "# Add tau information \n",
    "for sample in sorted(adata.obs['sample'].unique()):\n",
    "    print(sample)\n",
    "    \n",
    "    current_key = f\"{sample}_morph\"\n",
    "    labels = adata.uns[current_key]['label_img']\n",
    "    tau = adata.uns[current_key]['tau'] > 1\n",
    "    current_index = adata.obs.loc[adata.obs['sample'] == sample, 'orig_index'].values\n",
    "    tau_intensity = []\n",
    "    for i, region in enumerate(regionprops(labels)):\n",
    "        # print(region.label)\n",
    "        if i in current_index:\n",
    "            # tau intensity\n",
    "            curr_intensity = np.sum(tau[region.coords[:, 0], region.coords[:, 1]])\n",
    "            curr_intensity = curr_intensity / region.area * 100\n",
    "            tau_intensity.append(round(curr_intensity, 2))\n",
    "    adata.obs.loc[adata.obs['sample'] == sample, 'tau'] = tau_intensity"
   ]
  },
  {
   "cell_type": "markdown",
   "id": "parallel-desire",
   "metadata": {},
   "source": [
    "### Top-level leiden spatial map"
   ]
  },
  {
   "cell_type": "code",
   "execution_count": null,
   "id": "charming-theory",
   "metadata": {},
   "outputs": [],
   "source": [
    "# Get good cells and colors to plot the spatial map \n",
    "for sample in sorted(adata.obs['sample'].unique()):\n",
    "    print(sample)\n",
    "    \n",
    "    current_key = f\"{sample}_morph\"\n",
    "    current_index = adata.obs['sample'] == sample\n",
    "    adata.uns[current_key]['good_cells'] = adata.obs.loc[current_index, 'orig_index'].astype(int).values\n",
    "    adata.uns[current_key]['colors'] = adata.obs.loc[current_index, 'leiden'].astype(int).values"
   ]
  },
  {
   "cell_type": "code",
   "execution_count": null,
   "id": "cubic-information",
   "metadata": {},
   "outputs": [],
   "source": [
    "# Plot the spatial map for each sample \n",
    "for sample in sorted(adata.obs['sample'].unique()):\n",
    "    print(sample)\n",
    "    \n",
    "    su.plot_poly_cells_cluster_by_sample(adata, sample, cluster_cmap, show_plaque=True, show_tau=True,\n",
    "                                        figscale=30, width=10, height=10, save=True, show=False)"
   ]
  },
  {
   "cell_type": "markdown",
   "id": "supposed-region",
   "metadata": {},
   "source": [
    "## Top-level cluster annotation"
   ]
  },
  {
   "cell_type": "code",
   "execution_count": null,
   "id": "scenic-wallpaper",
   "metadata": {},
   "outputs": [],
   "source": [
    "# Plot UMAP with cluster labels w/ new color\n",
    "sc.pl.umap(adata, color='leiden', legend_loc='on data',\n",
    "           legend_fontsize=12, legend_fontoutline=2, frameon=False, \n",
    "           title='Top level clustering (leiden)', palette=cluster_pl, save=False)"
   ]
  },
  {
   "cell_type": "code",
   "execution_count": null,
   "id": "controlled-connectivity",
   "metadata": {},
   "outputs": [],
   "source": [
    "# Print markers \n",
    "markers = []\n",
    "temp = pd.DataFrame(adata.uns['rank_genes_groups']['names']).head(5)\n",
    "for i in range(temp.shape[1]):\n",
    "    curr_col = temp.iloc[:, i].to_list()\n",
    "    markers = markers + curr_col\n",
    "    print(i, curr_col)\n"
   ]
  },
  {
   "cell_type": "code",
   "execution_count": null,
   "id": "super-doctrine",
   "metadata": {},
   "outputs": [],
   "source": [
    "# Change cluster label to cell type label\n",
    "transfer_dict = {}\n",
    "top_level_list = ['Ex', 'Oligo', 'DG', 'Astro', 'CA1', 'CA3', 'Inhi', 'Endo', 'Micro', 'SMC', 'OPC', 'LHb']\n",
    "\n",
    "for i in sorted(adata.obs['leiden'].unique()):\n",
    "    transfer_dict[i] = top_level_list[int(i)]"
   ]
  },
  {
   "cell_type": "code",
   "execution_count": null,
   "id": "seasonal-edinburgh",
   "metadata": {},
   "outputs": [],
   "source": [
    "# Assign cell type to sdata\n",
    "adata.obs['top_level'] = adata.obs['leiden'].values\n",
    "adata.obs = adata.obs.replace({'top_level': transfer_dict})\n",
    "\n",
    "# Sort category\n",
    "top_level_order = ['Ex', 'Inhi', 'CA1', 'CA3', 'DG', 'Astro', 'Endo', 'Micro', 'Oligo', 'OPC', 'SMC', 'LHb']\n",
    "adata.obs['top_level'] = adata.obs['top_level'].astype('category')\n",
    "adata.obs['top_level'].cat.reorder_categories(top_level_order, inplace=True)"
   ]
  },
  {
   "cell_type": "code",
   "execution_count": null,
   "id": "aggregate-child",
   "metadata": {},
   "outputs": [],
   "source": [
    "# Check color legend\n",
    "sns.palplot(cluster_pl, size=3)\n",
    "plt.xticks(range(len(top_level_order)), top_level_order, size=10, rotation=45)\n",
    "plt.tight_layout()\n",
    "plt.savefig(f'./figures/color_legend_top.png')\n",
    "plt.show()"
   ]
  },
  {
   "cell_type": "code",
   "execution_count": null,
   "id": "hairy-circular",
   "metadata": {},
   "outputs": [],
   "source": [
    "# Save plots\n",
    "# Plot UMAP with cluster labels w/ new color\n",
    "sc.pl.umap(adata, color='top_level', legend_loc='on data',\n",
    "           legend_fontsize=12, legend_fontoutline=2, frameon=False, \n",
    "           title='Top level clustering (leiden)', palette=cluster_pl, save=True)\n",
    "\n",
    "sc.tl.rank_genes_groups(adata, 'top_level', method='wilcoxon')\n",
    "\n",
    "# Plot logFC heatmap\n",
    "sc.pl.rank_genes_groups_heatmap(adata, n_genes=5, groupby='top_level', min_logfoldchange=1, use_raw=False, swap_axes=True, \n",
    "                                vmin=-5, vmax=5, cmap='bwr', show_gene_labels=True, values_to_plot='logfoldchanges',\n",
    "                                dendrogram=False, figsize=(30, 15), save='_logFC')\n",
    "\n",
    "# Plot z-score heatmap\n",
    "sc.pl.rank_genes_groups_heatmap(adata, n_genes=5, groupby='top_level', min_logfoldchange=1, use_raw=False, swap_axes=True, \n",
    "                                vmin=-5, vmax=5, cmap='bwr', show_gene_labels=True,\n",
    "                                dendrogram=False, figsize=(30, 15), save='_zscore')\n",
    "\n",
    "# Plot logFC dotplot\n",
    "sc.pl.rank_genes_groups_dotplot(adata, groupby='top_level', n_genes=5, values_to_plot='logfoldchanges', min_logfoldchange=1, \n",
    "                                vmax=5, vmin=-5, cmap='bwr', save='logFC')\n",
    "\n",
    "# Print markers \n",
    "markers = []\n",
    "temp = pd.DataFrame(adata.uns['rank_genes_groups']['names']).head(5)\n",
    "for i in range(temp.shape[1]):\n",
    "    curr_col = temp.iloc[:, i].to_list()\n",
    "    markers = markers + curr_col\n",
    "    print(curr_col)\n"
   ]
  },
  {
   "cell_type": "markdown",
   "id": "vanilla-bracket",
   "metadata": {},
   "source": [
    "### Top-level spatial map"
   ]
  },
  {
   "cell_type": "code",
   "execution_count": null,
   "id": "overall-telephone",
   "metadata": {},
   "outputs": [],
   "source": [
    "# Get good cells and colors to plot the spatial map \n",
    "for sample in sorted(adata.obs['sample'].unique()):\n",
    "    print(sample)\n",
    "    \n",
    "    current_key = f\"{sample}_morph\"\n",
    "    current_index = adata.obs['sample'] == sample\n",
    "    adata.uns[current_key]['good_cells'] = adata.obs.loc[current_index, 'orig_index'].astype(int).values\n",
    "    adata.uns[current_key]['colors'] = adata.obs.loc[current_index, 'top_level'].cat.codes.values"
   ]
  },
  {
   "cell_type": "code",
   "execution_count": null,
   "id": "appointed-closer",
   "metadata": {},
   "outputs": [],
   "source": [
    "# Plot the spatial map for each sample \n",
    "for sample in sorted(adata.obs['sample'].unique()):\n",
    "    print(sample)\n",
    "    \n",
    "    su.plot_poly_cells_cluster_by_sample(adata, sample, cluster_cmap, show_plaque=True, show_tau=True,\n",
    "                                        figscale=30, width=10, height=10, save=True, show=False)"
   ]
  },
  {
   "cell_type": "markdown",
   "id": "mature-october",
   "metadata": {},
   "source": [
    "## Sub-level clustering"
   ]
  },
  {
   "cell_type": "code",
   "execution_count": null,
   "id": "derived-nepal",
   "metadata": {},
   "outputs": [],
   "source": [
    "# Create complete array\n",
    "complete_cluster_pl = []\n",
    "complete_cell_type_order = []"
   ]
  },
  {
   "cell_type": "markdown",
   "id": "pregnant-drink",
   "metadata": {},
   "source": [
    "<hr>"
   ]
  },
  {
   "cell_type": "code",
   "execution_count": null,
   "id": "center-alliance",
   "metadata": {},
   "outputs": [],
   "source": [
    "# Subset\n",
    "sub_id = 'OPC'\n",
    "curr_cells = adata.obs['top_level'] == sub_id\n",
    "sdata = adata[curr_cells, :]\n",
    "sdata"
   ]
  },
  {
   "cell_type": "code",
   "execution_count": null,
   "id": "written-contractor",
   "metadata": {},
   "outputs": [],
   "source": [
    "# Run PCA\n",
    "sc.tl.pca(sdata, svd_solver='arpack', use_highly_variable=True)\n",
    "\n",
    "# Plot explained variance \n",
    "sc.pl.pca_variance_ratio(sdata, log=False)\n",
    "\n",
    "# Plot PCA\n",
    "sc.pl.pca(sdata, color='sample')"
   ]
  },
  {
   "cell_type": "code",
   "execution_count": null,
   "id": "bibliographic-insight",
   "metadata": {},
   "outputs": [],
   "source": [
    "%%time\n",
    "# Computing the neighborhood graph\n",
    "n_neighbors = 30\n",
    "n_pcs = 10\n",
    "\n",
    "sc.pp.neighbors(sdata, n_neighbors=n_neighbors, n_pcs=n_pcs)\n",
    "\n",
    "# Run UMAP\n",
    "sc.tl.umap(sdata)"
   ]
  },
  {
   "cell_type": "code",
   "execution_count": null,
   "id": "functional-blues",
   "metadata": {},
   "outputs": [],
   "source": [
    "# Plot UMAP\n",
    "sc.pl.umap(sdata, color='sample', save=f'_{sub_id}_sample')\n",
    "sc.pl.umap(sdata, color='time', save=f'_{sub_id}_time')\n",
    "sc.pl.umap(sdata, color='group', save=f'_{sub_id}_group')"
   ]
  },
  {
   "cell_type": "code",
   "execution_count": null,
   "id": "differential-shelf",
   "metadata": {},
   "outputs": [],
   "source": [
    "%%time\n",
    "# Run leiden cluster\n",
    "cluster_resolution = .2\n",
    "sc.tl.leiden(sdata, resolution = cluster_resolution)\n",
    "\n",
    "# Plot UMAP with cluster labels \n",
    "sc.pl.umap(sdata, color='leiden')\n",
    "n_clusters = sdata.obs['leiden'].unique().shape[0]\n",
    "\n",
    "# Save log\n",
    "with open(f'./figures/log_{sub_id}.txt', 'w') as f:\n",
    "    f.write(f\"\"\"Number of neighbor: {n_neighbors}\n",
    "Number of PC: {n_pcs}\n",
    "Resolution: {cluster_resolution}\n",
    "Number of clusters: {n_clusters}\"\"\")"
   ]
  },
  {
   "cell_type": "code",
   "execution_count": null,
   "id": "unsigned-hands",
   "metadata": {},
   "outputs": [],
   "source": [
    "# Get colormap \n",
    "cluster_pl = sns.color_palette('Set2', n_clusters)\n",
    "sns.palplot(cluster_pl)\n",
    "cluster_cmap = ListedColormap(cluster_pl)"
   ]
  },
  {
   "cell_type": "code",
   "execution_count": null,
   "id": "induced-hospital",
   "metadata": {},
   "outputs": [],
   "source": [
    "# Plot UMAP with cluster labels w/ new color\n",
    "sc.pl.umap(sdata, color='leiden', legend_loc='on data',\n",
    "           legend_fontsize=12, legend_fontoutline=2, frameon=False, \n",
    "           title=f'leiden clustering (resolution={cluster_resolution})', palette=cluster_pl)"
   ]
  },
  {
   "cell_type": "code",
   "execution_count": null,
   "id": "lesbian-mouse",
   "metadata": {},
   "outputs": [],
   "source": [
    "# Get markers for each cluster\n",
    "sc.tl.rank_genes_groups(sdata, 'leiden', method='wilcoxon')\n",
    "\n",
    "# Plot z-score heatmap\n",
    "sc.pl.rank_genes_groups_heatmap(sdata, n_genes=5, min_logfoldchange=.5, use_raw=False, swap_axes=True, \n",
    "                                vmin=-5, vmax=5, cmap='bwr', show_gene_labels=True,\n",
    "                                dendrogram=False, figsize=(30, 15), save=False)"
   ]
  },
  {
   "cell_type": "code",
   "execution_count": null,
   "id": "impossible-lawrence",
   "metadata": {},
   "outputs": [],
   "source": [
    "# Print markers \n",
    "markers = []\n",
    "temp = pd.DataFrame(sdata.uns['rank_genes_groups']['names']).head(5)\n",
    "for i in range(temp.shape[1]):\n",
    "    curr_col = temp.iloc[:, i].to_list()\n",
    "    markers = markers + curr_col\n",
    "    print(i, curr_col)"
   ]
  },
  {
   "cell_type": "markdown",
   "id": "reverse-armenia",
   "metadata": {},
   "source": [
    "### Sub-level leiden spatial map"
   ]
  },
  {
   "cell_type": "code",
   "execution_count": null,
   "id": "stable-youth",
   "metadata": {},
   "outputs": [],
   "source": [
    "# Check cluster spatial pattern \n",
    "for sample in sorted(sdata.obs['sample'].unique()):\n",
    "    print(sample)\n",
    "    current_key = f\"{sample}_morph\"\n",
    "\n",
    "    current_index = sdata.obs['sample'] == sample\n",
    "    sdata.uns[current_key]['good_cells'] = sdata.obs.loc[current_index, 'orig_index'].astype(int).values\n",
    "    sdata.uns[current_key]['colors'] = sdata.obs.loc[current_index, 'leiden'].astype(int).values"
   ]
  },
  {
   "cell_type": "code",
   "execution_count": null,
   "id": "searching-advantage",
   "metadata": {},
   "outputs": [],
   "source": [
    "# Check current spatial cell type \n",
    "n_plots = 1\n",
    "for i, sample in enumerate(sorted(sdata.obs['sample'].unique())[:n_plots]):\n",
    "    print(sample)\n",
    "    su.plot_poly_cells_cluster_by_sample(sdata, sample, cluster_cmap, show_plaque=True, show_tau=True,\n",
    "                                        figscale=5, width=10, height=10)"
   ]
  },
  {
   "cell_type": "markdown",
   "id": "automotive-shoulder",
   "metadata": {},
   "source": [
    "## Sub-level Cluster Annotation"
   ]
  },
  {
   "cell_type": "code",
   "execution_count": null,
   "id": "potential-eight",
   "metadata": {},
   "outputs": [],
   "source": [
    "# Change cluster label to cell type label\n",
    "transfer_dict = {}\n",
    "# cell_type_list = ['CA3', 'CA2']\n",
    "# cell_type_list = ['Inhi_Pvalb', 'Inhi_Sst', 'Inhi_Cnr1', 'Inhi_Lamp5']\n",
    "# cell_type_list = ['L4/RSC_A', 'L6', 'L2/3', 'L4/RSC_B']\n",
    "# cell_type_list = ['Endo', 'Endo_Cldn5+', 'Endo_Esam+']\n",
    "# cell_type_list = ['Astro', 'Astro_Aqp4/Gfap', 'Astro_Gpr37l1/Cst3', 'Astro_Id4/Cst3']\n",
    "# cell_type_list = ['Micro', 'Micro_Cst7/Ctsb', 'Micro_Gpr34']\n",
    "# cell_type_list = ['Oligo', 'Oligo_Neat1/Enpp2', 'Oligo_Cldn11', 'Oligo_Ntsr1', 'Oligo_Tmem88b',\n",
    "#                  'Oligo_Klk6', 'Oligo_Itga9']\n",
    "# cell_type_list = ['Peri_A', 'Peri_B', 'SMC', 'VLMC_A', 'VLMC_B']\n",
    "cell_type_list = ['OPC', 'OPC_Gpr17']\n",
    "\n",
    "for i in sorted(sdata.obs['leiden'].unique()):\n",
    "    transfer_dict[i] = cell_type_list[int(i)]"
   ]
  },
  {
   "cell_type": "code",
   "execution_count": null,
   "id": "cellular-frontier",
   "metadata": {},
   "outputs": [],
   "source": [
    "# Assign cell type to sdata\n",
    "sdata.obs['cell_type'] = sdata.obs['leiden'].values\n",
    "sdata.obs = sdata.obs.replace({'cell_type': transfer_dict})\n",
    "\n",
    "# Sort category\n",
    "cell_type_list = sorted(cell_type_list)\n",
    "sdata.obs['cell_type'] = sdata.obs['cell_type'].astype('category')\n",
    "sdata.obs['cell_type'].cat.reorder_categories(cell_type_list, inplace=True)"
   ]
  },
  {
   "cell_type": "code",
   "execution_count": null,
   "id": "built-addition",
   "metadata": {},
   "outputs": [],
   "source": [
    "# Check color legend\n",
    "sns.palplot(cluster_pl, size=3)\n",
    "plt.xticks(range(len(cell_type_list)), cell_type_list, size=10, rotation=45)\n",
    "plt.tight_layout()\n",
    "plt.savefig(f'./figures/color_legend_{sub_id}.png')\n",
    "plt.show()"
   ]
  },
  {
   "cell_type": "code",
   "execution_count": null,
   "id": "attached-uncle",
   "metadata": {},
   "outputs": [],
   "source": [
    "# Save plots\n",
    "# Plot UMAP with cluster labels w/ new color\n",
    "sc.pl.umap(sdata, color='cell_type', legend_loc='on data',\n",
    "           legend_fontsize=12, legend_fontoutline=2, frameon=False, \n",
    "           title=f'leiden clustering (resolution={cluster_resolution})', palette=cluster_pl, save=True)\n",
    "\n",
    "sc.tl.rank_genes_groups(sdata, 'cell_type', method='wilcoxon')\n",
    "# Plot logFC heatmap\n",
    "sc.pl.rank_genes_groups_heatmap(sdata, n_genes=5, groupby='cell_type', min_logfoldchange=.5, use_raw=False, swap_axes=True, \n",
    "                                vmin=-5, vmax=5, cmap='bwr', show_gene_labels=True, values_to_plot='logfoldchanges',\n",
    "                                dendrogram=False, figsize=(30, 15), save='_logFC')\n",
    "\n",
    "# Plot z-score heatmap\n",
    "sc.pl.rank_genes_groups_heatmap(sdata, n_genes=5, groupby='cell_type', min_logfoldchange=.5, use_raw=False, swap_axes=True, \n",
    "                                vmin=-5, vmax=5, cmap='bwr', show_gene_labels=True,\n",
    "                                dendrogram=False, figsize=(30, 15), save='_zscore')\n",
    "\n",
    "# Plot logFC dotplot\n",
    "sc.pl.rank_genes_groups_dotplot(sdata, groupby='cell_type', n_genes=5, values_to_plot='logfoldchanges', min_logfoldchange=.5, \n",
    "                                vmax=5, vmin=-5, cmap='bwr', save='logFC')\n",
    "\n",
    "# Print markers \n",
    "markers = []\n",
    "temp = pd.DataFrame(sdata.uns['rank_genes_groups']['names']).head(5)\n",
    "for i in range(temp.shape[1]):\n",
    "    curr_col = temp.iloc[:, i].to_list()\n",
    "    markers = markers + curr_col\n",
    "    print(i, curr_col)"
   ]
  },
  {
   "cell_type": "markdown",
   "id": "aquatic-rabbit",
   "metadata": {},
   "source": [
    "### Sub-level spatial map"
   ]
  },
  {
   "cell_type": "code",
   "execution_count": null,
   "id": "delayed-reservation",
   "metadata": {},
   "outputs": [],
   "source": [
    "# Check current spatial cell type \n",
    "for sample in sorted(sdata.obs['sample'].unique()):\n",
    "    print(sample)\n",
    "    current_key = f\"{sample}_morph\"\n",
    "    current_index = sdata.obs['sample'] == sample\n",
    "    \n",
    "    # change to new color \n",
    "    sdata.uns[current_key]['colors'] = sdata.obs.loc[current_index, 'cell_type'].cat.codes.values\n",
    "    \n",
    "    su.plot_poly_cells_cluster_by_sample(sdata, sample, cluster_cmap, show_plaque=True, show_tau=True,\n",
    "                                        figscale=30, width=10, height=10, save=sub_id, show=False)"
   ]
  },
  {
   "cell_type": "markdown",
   "id": "younger-heritage",
   "metadata": {},
   "source": [
    "### Add to adata"
   ]
  },
  {
   "cell_type": "code",
   "execution_count": null,
   "id": "printable-storm",
   "metadata": {},
   "outputs": [],
   "source": [
    "# Map to original obj\n",
    "if not adata.obs['cell_type']:\n",
    "    adata.obs['cell_type'] = adata.obs['top_level'].astype(object)\n",
    "adata.obs['cell_type'] = adata.obs['cell_type'].astype(object)\n",
    "adata.obs.loc[sdata.obs.index, 'cell_type'] = sdata.obs['cell_type'].values\n",
    "adata.obs['cell_type'].unique()"
   ]
  },
  {
   "cell_type": "code",
   "execution_count": null,
   "id": "developed-tulsa",
   "metadata": {},
   "outputs": [],
   "source": [
    "# Update color and cell type order \n",
    "complete_cluster_pl = complete_cluster_pl + cluster_pl\n",
    "complete_cell_type_order = complete_cell_type_order + cell_type_list"
   ]
  },
  {
   "cell_type": "code",
   "execution_count": null,
   "id": "legitimate-soccer",
   "metadata": {},
   "outputs": [],
   "source": [
    "# Check complete meta\n",
    "sns.palplot(complete_cluster_pl, size=3)\n",
    "plt.xticks(range(len(complete_cell_type_order)), complete_cell_type_order, size=10, rotation=45)\n",
    "plt.tight_layout()\n",
    "plt.show()"
   ]
  },
  {
   "cell_type": "code",
   "execution_count": null,
   "id": "adequate-biotechnology",
   "metadata": {},
   "outputs": [],
   "source": [
    "adata.uns['complete_cell_type_order'] = complete_cell_type_order\n",
    "adata.uns['complete_cluster_pl'] = complete_cluster_pl"
   ]
  },
  {
   "cell_type": "code",
   "execution_count": null,
   "id": "union-harmony",
   "metadata": {},
   "outputs": [],
   "source": [
    "# backup\n",
    "adata.write_h5ad('./output/2020-11-11-mAD-bk.h5ad')"
   ]
  },
  {
   "cell_type": "markdown",
   "id": "graphic-foundation",
   "metadata": {},
   "source": [
    "## Output"
   ]
  },
  {
   "cell_type": "code",
   "execution_count": null,
   "id": "abandoned-texture",
   "metadata": {},
   "outputs": [],
   "source": [
    "# Preview of adata\n",
    "adata"
   ]
  },
  {
   "cell_type": "code",
   "execution_count": null,
   "id": "retired-mobility",
   "metadata": {},
   "outputs": [],
   "source": [
    "# Preview of adata metadata\n",
    "adata.obs"
   ]
  },
  {
   "cell_type": "code",
   "execution_count": null,
   "id": "manufactured-coordinator",
   "metadata": {},
   "outputs": [],
   "source": [
    "# Save adata \n",
    "adata.write_h5ad('./output/2020-11-11-mAD-bk.h5ad')"
   ]
  },
  {
   "cell_type": "code",
   "execution_count": null,
   "id": "living-deputy",
   "metadata": {},
   "outputs": [],
   "source": [
    "# Save metadata\n",
    "adata.obs.to_csv('./output/2021-04-15-obs.csv')"
   ]
  }
 ],
 "metadata": {
  "kernelspec": {
   "display_name": "Python 3",
   "language": "python",
   "name": "python3"
  },
  "language_info": {
   "codemirror_mode": {
    "name": "ipython",
    "version": 3
   },
   "file_extension": ".py",
   "mimetype": "text/x-python",
   "name": "python",
   "nbconvert_exporter": "python",
   "pygments_lexer": "ipython3",
   "version": "3.7.10"
  }
 },
 "nbformat": 4,
 "nbformat_minor": 5
}
