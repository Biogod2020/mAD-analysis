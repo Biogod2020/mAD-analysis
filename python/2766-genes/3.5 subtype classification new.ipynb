{
 "cells": [
  {
   "cell_type": "markdown",
   "id": "00ff16c3-aa42-48fd-8abf-6d7e4ab5dd69",
   "metadata": {},
   "source": [
    "# Subtype classification"
   ]
  },
  {
   "cell_type": "code",
   "execution_count": null,
   "id": "a6297bc2-c54d-4b98-8385-1907dc014e7f",
   "metadata": {},
   "outputs": [],
   "source": [
    "# Import Packages\n",
    "\n",
    "%load_ext autoreload\n",
    "%autoreload 2\n",
    "\n",
    "import os\n",
    "import warnings \n",
    "warnings.filterwarnings('ignore')\n",
    "import numpy as np\n",
    "import pandas as pd\n",
    "import scanpy as sc\n",
    "import seaborn as sns\n",
    "import matplotlib.pyplot as plt\n",
    "from skimage.filters import threshold_otsu, gaussian\n",
    "from skimage.morphology import remove_small_objects\n",
    "from matplotlib.colors import ListedColormap\n",
    "from anndata import AnnData, concat\n",
    "\n",
    "# Customized packages\n",
    "from starmap.utilities import *\n",
    "from starmap.sequencing import *\n",
    "from starmap.obj import STARMapDataset, load_data\n",
    "# import starmap.analyze as anz\n",
    "# import starmap.viz as viz\n",
    "import starmap.sc_util as su\n",
    "\n",
    "sc.logging.print_header()\n",
    "# test()"
   ]
  },
  {
   "cell_type": "code",
   "execution_count": null,
   "id": "3431a856-7e77-4b55-8020-ae76c1c8b24b",
   "metadata": {},
   "outputs": [],
   "source": [
    "from statannotations.Annotator import Annotator"
   ]
  },
  {
   "cell_type": "markdown",
   "id": "f76ca845-3f1f-44a1-904c-e1f16f6580fd",
   "metadata": {},
   "source": [
    "## Input"
   ]
  },
  {
   "cell_type": "code",
   "execution_count": null,
   "id": "4d15cf80-0c19-44b7-b435-d7e879184970",
   "metadata": {},
   "outputs": [],
   "source": [
    "# Set path\n",
    "base_path = 'Z:/Data/Analyzed/2022-01-03-Hu-AD/'\n",
    "out_path = os.path.join(base_path, 'output')\n",
    "fig_path = os.path.join(base_path, 'figures')\n",
    "\n",
    "out_path = os.path.join(base_path, 'output')\n",
    "if not os.path.exists(out_path): \n",
    "    os.mkdir(out_path)\n",
    "    \n",
    "fig_path = os.path.join(base_path, 'figures')\n",
    "if not os.path.exists(fig_path):\n",
    "    os.mkdir(fig_path)"
   ]
  },
  {
   "cell_type": "code",
   "execution_count": null,
   "id": "df07d70d-e820-4848-aa5b-4be01f227326",
   "metadata": {},
   "outputs": [],
   "source": [
    "# Load new data\n",
    "adata = sc.read_h5ad(os.path.join(out_path, '2022-04-06-Hu-AD-stardist-scaled.h5ad'))\n",
    "adata"
   ]
  },
  {
   "cell_type": "code",
   "execution_count": null,
   "id": "d1835092-6cf6-4b9e-888f-0ff47ed0960e",
   "metadata": {},
   "outputs": [],
   "source": [
    "# odata = adata[adata.obs['top_level'] == 'Astro', ]\n",
    "# odata.write_h5ad(os.path.join(out_path, 'astro-test.h5ad'))"
   ]
  },
  {
   "cell_type": "markdown",
   "id": "59284f13-c8d6-4644-8c01-b533b2a9d223",
   "metadata": {},
   "source": [
    "## Gene filtering"
   ]
  },
  {
   "cell_type": "code",
   "execution_count": null,
   "id": "a4c11adc-273f-47e7-9ebc-2a2d307c98f3",
   "metadata": {},
   "outputs": [],
   "source": [
    "cell_types = ['CTX-Ex',\n",
    " 'Inh',\n",
    " 'CA1',\n",
    " 'CA2',\n",
    " 'CA3',\n",
    " 'DG',\n",
    " 'Astro',\n",
    " 'Endo',\n",
    " 'Micro',\n",
    " 'Oligo_OPC',\n",
    " 'SMC',\n",
    " 'LHb']\n",
    "\n",
    "# merge Oligo-OPC label\n",
    "adata.obs['top_level_filtering'] = adata.obs['top_level'].values\n",
    "adata.obs['top_level_filtering'] = adata.obs['top_level_filtering'].astype(object)\n",
    "adata.obs.loc[adata.obs['top_level'] == 'Oligo', 'top_level_filtering'] = 'Oligo_OPC'\n",
    "adata.obs.loc[adata.obs['top_level'] == 'OPC', 'top_level_filtering'] = 'Oligo_OPC'\n",
    "adata.obs['top_level_filtering'] = adata.obs['top_level_filtering'].astype('category')\n",
    "adata.obs['top_level_filtering'] = adata.obs['top_level_filtering'].cat.reorder_categories(cell_types)\n",
    "\n",
    "# compute pct matrix\n",
    "pct_df = pd.DataFrame(columns=cell_types, index=adata.var.index)\n",
    "for current_type in cell_types:\n",
    "    hdata = adata[adata.obs['top_level_filtering'] == current_type, ]\n",
    "    hdata.X = hdata.layers['raw'].copy()\n",
    "    sc.pp.calculate_qc_metrics(hdata, inplace=True)\n",
    "    current_pct = 100 - hdata.var['pct_dropout_by_counts']\n",
    "    pct_df[current_type] = current_pct"
   ]
  },
  {
   "cell_type": "code",
   "execution_count": null,
   "id": "3cd06772-cc40-49c4-8546-e020f551d6e9",
   "metadata": {},
   "outputs": [],
   "source": [
    "# compute pct matrix\n",
    "cell_types = adata.obs['top_level'].cat.categories.to_list()\n",
    "pct_df = pd.DataFrame(columns=cell_types, index=adata.var.index)\n",
    "for current_type in cell_types:\n",
    "    hdata = adata[adata.obs['top_level'] == current_type, ]\n",
    "    hdata.X = hdata.layers['raw'].copy()\n",
    "    sc.pp.calculate_qc_metrics(hdata, inplace=True)\n",
    "    current_pct = 100 - hdata.var['pct_dropout_by_counts']\n",
    "    pct_df[current_type] = current_pct"
   ]
  },
  {
   "cell_type": "code",
   "execution_count": null,
   "id": "11f37926-69e2-4756-820e-220a410bd48e",
   "metadata": {},
   "outputs": [],
   "source": [
    "# get genes \n",
    "ingroup_threshold = 5\n",
    "outgroup_threshold = 80\n",
    "filtered_markers_dict = {}\n",
    "\n",
    "for current_type in cell_types:\n",
    "    ingroup_vec = pct_df[current_type] > ingroup_threshold\n",
    "    current_pct_df = pct_df.loc[:, pct_df.columns != current_type]\n",
    "    current_col_sum = (current_pct_df > outgroup_threshold).sum(axis=1)\n",
    "    outgroup_vec = current_col_sum > 0\n",
    "    current_final_vec = (ingroup_vec & ~outgroup_vec)\n",
    "    current_count = current_final_vec.value_counts()\n",
    "    filtered_markers_dict[current_type] = adata.var.loc[current_final_vec, :].index.to_list()\n",
    "    print(current_type, ' - ', current_count[True])"
   ]
  },
  {
   "cell_type": "code",
   "execution_count": null,
   "id": "4472fda5-c26c-4e4f-8bdd-d91263625a86",
   "metadata": {},
   "outputs": [],
   "source": [
    "confusion_df = pd.DataFrame(columns=cell_types, index=cell_types)\n",
    "for current_type in cell_types:\n",
    "    current_genes = filtered_markers_dict[current_type]\n",
    "    current_vec = []\n",
    "    for compare_type in cell_types:\n",
    "        compare_genes = filtered_markers_dict[compare_type]\n",
    "        counts = len(set(current_genes) & set(compare_genes))\n",
    "        current_vec.append(counts)\n",
    "    confusion_df[current_type] = current_vec\n",
    "    \n",
    "fig, ax = plt.subplots(figsize=(12,10))\n",
    "sns.heatmap(confusion_df, annot=True, fmt='d')"
   ]
  },
  {
   "cell_type": "code",
   "execution_count": null,
   "id": "14b8b274-41c2-42f7-95e0-f18d23ae9221",
   "metadata": {},
   "outputs": [],
   "source": [
    "# save marker dict \n",
    "\n",
    "current_set_id = f'in_{ingroup_threshold}_out_{outgroup_threshold}'\n",
    "current_out_path = os.path.join(out_path, current_set_id)\n",
    "if not os.path.exists(current_out_path): \n",
    "    os.mkdir(current_out_path)\n",
    "    \n",
    "for current_type in cell_types:\n",
    "    current_genes = filtered_markers_dict[current_type]\n",
    "    current_df = pd.DataFrame(current_genes, columns=['Gene'])\n",
    "    current_df.to_csv(os.path.join(current_out_path, f'{current_type}.csv'), index=False)"
   ]
  },
  {
   "cell_type": "code",
   "execution_count": null,
   "id": "ea82a8f1-7cae-447f-9a52-5c3da9354581",
   "metadata": {},
   "outputs": [],
   "source": [
    "pct_df"
   ]
  },
  {
   "cell_type": "markdown",
   "id": "df997758-9d76-463e-8084-c4bfe8386140",
   "metadata": {},
   "source": [
    "## Subtype clustering"
   ]
  },
  {
   "cell_type": "markdown",
   "id": "9a88bfb5-bc6f-42d3-9603-2ca3aaffcc23",
   "metadata": {
    "tags": []
   },
   "source": [
    "### Astro"
   ]
  },
  {
   "cell_type": "code",
   "execution_count": null,
   "id": "fd21abf7-bcab-4426-a0bf-1635b8eb25e8",
   "metadata": {},
   "outputs": [],
   "source": [
    "# Subset\n",
    "sub_id = 'Astro'\n",
    "current_genes = filtered_markers_dict[sub_id]\n",
    "current_cells = adata.obs['top_level'] == sub_id\n",
    "sdata = adata[current_cells, current_genes]\n",
    "\n",
    "# sdata = adata[current_cells, :]\n",
    "\n",
    "print(sdata.X.max())\n",
    "sdata"
   ]
  },
  {
   "cell_type": "code",
   "execution_count": null,
   "id": "31d803ea-4751-47f6-9a8a-1dd5a065da4d",
   "metadata": {},
   "outputs": [],
   "source": [
    "# remove aqp4\n",
    "sdata = sdata[:, sdata.var.index != 'Aqp4']\n",
    "sdata"
   ]
  },
  {
   "cell_type": "code",
   "execution_count": null,
   "id": "aa01cd0d-d6c9-4e9f-8db5-9c0b43ddc5e8",
   "metadata": {},
   "outputs": [],
   "source": [
    "# setup the output path \n",
    "sub_level_fig_path = os.path.join(fig_path, 'subclustering-test', sub_id)\n",
    "if not os.path.exists(sub_level_fig_path):\n",
    "    os.mkdir(sub_level_fig_path)"
   ]
  },
  {
   "cell_type": "code",
   "execution_count": null,
   "id": "1a8b37b3-7cd1-4c5c-8e71-047a72448e06",
   "metadata": {},
   "outputs": [],
   "source": [
    "# Redo preprocessing\n",
    "sdata.X = sdata.layers['raw'].copy()\n",
    "del sdata.layers\n",
    "\n",
    "sdata.layers['raw'] = sdata.X.copy()\n",
    "\n",
    "# # Normalization scaling\n",
    "# sc.pp.normalize_total(sdata)\n",
    "# sc.pp.log1p(sdata)\n",
    "\n",
    "# sdata.layers['norm'] = sdata.X.copy()\n",
    "# sdata.raw = sdata\n",
    "\n",
    "# # sc.pp.highly_variable_genes(sdata, min_mean=0.01, max_mean=3, min_disp=0.5)\n",
    "# # sc.pl.highly_variable_genes(sdata)\n",
    "\n",
    "# # Scale data to unit variance and zero mean\n",
    "# sc.pp.scale(sdata)\n",
    "# sdata.layers['scaled'] = sdata.X.copy()\n",
    "\n",
    "# Batch correction\n",
    "sc.pp.combat(sdata, key='batch')\n",
    "sc.pp.regress_out(sdata, 'total_counts')\n",
    "sdata.layers['corrected'] = sdata.X.copy()"
   ]
  },
  {
   "cell_type": "code",
   "execution_count": null,
   "id": "ad5cb022-b245-42ba-aa20-d95931b19561",
   "metadata": {},
   "outputs": [],
   "source": [
    "# Run PCA\n",
    "sdata.X = sdata.layers['corrected'].copy()\n",
    "sc.tl.pca(sdata, svd_solver='full', use_highly_variable=True, zero_center=True)\n",
    "\n",
    "# Plot explained variance \n",
    "sc.pl.pca_variance_ratio(sdata, log=False)\n",
    "\n",
    "# Plot PCA\n",
    "sc.pl.pca(sdata, color='sample')\n",
    "sc.pl.pca(sdata, color='time-group')\n",
    "sc.pl.pca(sdata, color='Gfap')\n",
    "sc.pl.pca(sdata, color='Vim')\n",
    "sc.pl.pca_loadings(sdata, components = '1,2,3,4,5')"
   ]
  },
  {
   "cell_type": "markdown",
   "id": "6d0c534c-d8a2-415c-bfc9-b9db7e7a7571",
   "metadata": {},
   "source": [
    "#### test"
   ]
  },
  {
   "cell_type": "code",
   "execution_count": null,
   "id": "4248c48b-1ffe-432e-8540-1c6d795edf30",
   "metadata": {
    "scrolled": true,
    "tags": []
   },
   "outputs": [],
   "source": [
    "for i in range(2, 30, 1):\n",
    "    print(i)\n",
    "    sc.pp.neighbors(sdata, n_neighbors=15, n_pcs=i)\n",
    "    sc.tl.umap(sdata, min_dist=.1)\n",
    "    if i > 10:\n",
    "        sc.tl.leiden(sdata, resolution = .4, random_state=0)\n",
    "    elif i > 15:\n",
    "        sc.tl.leiden(sdata, resolution = .5, random_state=0)\n",
    "    elif i < 6:\n",
    "        sc.tl.leiden(sdata, resolution = .2, random_state=0)\n",
    "    else:\n",
    "        sc.tl.leiden(sdata, resolution = .3, random_state=0)\n",
    "        \n",
    "    fig, axs = plt.subplots(1, 3, figsize=(15, 4))\n",
    "    axs = axs.flatten()\n",
    "    sc.pl.umap(sdata, color='group', title=f'#pcs: {i}', ax=axs[0], show=False)\n",
    "    sc.pl.umap(sdata, color='leiden', title=f'leiden', ax=axs[1], show=False)\n",
    "    \n",
    "    sub_count_sample = pd.DataFrame(index=sdata.obs['leiden'].cat.categories.to_list(), columns=sdata.obs['sample'].cat.categories.to_list())\n",
    "\n",
    "    for sample in sdata.obs['sample'].cat.categories:\n",
    "        # print(sample)\n",
    "        current_obs = sdata.obs.loc[sdata.obs['sample'] == sample, :]\n",
    "        current_count = current_obs['leiden'].value_counts()\n",
    "        sub_count_sample.loc[:, sample] = current_count\n",
    "    \n",
    "    sub_count_sample['leiden'] = sub_count_sample.index.values\n",
    "    sub_count_sample_melt = pd.melt(sub_count_sample, id_vars=['leiden'], value_vars=adata.obs['sample'].cat.categories.to_list())\n",
    "    sub_count_sample_melt.columns = ['leiden', 'sample', 'value']\n",
    "    sub_count_sample_melt['time-group'] = sub_count_sample_melt['sample'].values\n",
    "    time_group_dict = {\n",
    "        'ADmouse_9723': '8months-disease', 'ADmouse_9735': '8months-control', 'ADmouse_9494': '13months-disease', 'ADmouse_9498': '13months-control', \n",
    "        'ADmouse_9723_2': '8months-disease', 'ADmouse_9707': '8months-control', 'ADmouse_11346': '13months-disease', 'ADmouse_11351': '13months-control', \n",
    "                      }\n",
    "    sub_count_sample_melt['time-group'] = sub_count_sample_melt['time-group'].map(time_group_dict)\n",
    "    sub_count_sample_melt[['time', 'group']] = sub_count_sample_melt['time-group'].str.split('-', 1, expand=True)\n",
    "    sub_count_sample_melt['group'] = sub_count_sample_melt['group'].astype('category')\n",
    "    sub_count_sample_melt['type-group'] = sub_count_sample_melt['leiden'].astype(str) + '-' + sub_count_sample_melt['group'].astype(str)\n",
    "    sub_count_sample_melt['type-group'] = sub_count_sample_melt['type-group'].astype('category')\n",
    "    sub_count_sample_melt['leiden'] = sub_count_sample_melt['leiden'].astype('category')\n",
    "    sub_count_sample_melt['code'] = sub_count_sample_melt['leiden'].cat.codes\n",
    "    sub_count_sample_melt.loc[sub_count_sample_melt['group'] == 'disease', 'code'] = sub_count_sample_melt.loc[sub_count_sample_melt['group'] == 'disease', 'code'] + 0.2\n",
    "    sub_count_sample_melt.loc[sub_count_sample_melt['group'] == 'control', 'code'] = sub_count_sample_melt.loc[sub_count_sample_melt['group'] == 'control', 'code'] - 0.2\n",
    "\n",
    "    # plot barplot\n",
    "\n",
    "    cf_pl = sns.color_palette(['#00bfc4', '#f8766d'])\n",
    "    alternative = 'less'\n",
    "\n",
    "    sns.barplot(x='leiden', y='value', hue='group', data=sub_count_sample_melt, palette=cf_pl, ax=axs[2])\n",
    "    sns.scatterplot(x=\"code\", y=\"value\", hue='group', data=sub_count_sample_melt, s=70, facecolors='white', edgecolor='black', ax=axs[2], legend=False, zorder=2)\n",
    "\n",
    "    pairs = [((current_type, 'disease'), (current_type, 'control')) for current_type in sdata.obs['leiden'].cat.categories]\n",
    "\n",
    "    annot = Annotator(axs[2], pairs, plot='barplot', data=sub_count_sample_melt, x='leiden', y='value', hue='group')\n",
    "    annot.configure(test='t-test_ind', text_format='star', loc='inside', verbose=2)\n",
    "    annot.apply_test(alternative=alternative).annotate()\n",
    "\n",
    "\n",
    "    plt.show()"
   ]
  },
  {
   "cell_type": "markdown",
   "id": "a4bfd919-1b5a-4eb1-a8ba-de0eb4ed2feb",
   "metadata": {},
   "source": [
    "#### final run"
   ]
  },
  {
   "cell_type": "code",
   "execution_count": null,
   "id": "c055b1f9-38c0-46f8-8b8c-013862019a5e",
   "metadata": {},
   "outputs": [],
   "source": [
    "%%time\n",
    "# Embedding parameters\n",
    "emb_dict = {\n",
    "    sub_id: {'n_neighbors': 30, 'n_pcs':16, 'min_dist': 1, 'cluster_resolution': .4},\n",
    "           }\n",
    "\n",
    "# Computing the neighborhood graph\n",
    "\n",
    "n_neighbors = emb_dict[sub_id]['n_neighbors']\n",
    "n_pcs = emb_dict[sub_id]['n_pcs']\n",
    "min_dist = emb_dict[sub_id]['min_dist']\n",
    "cluster_resolution = emb_dict[sub_id]['cluster_resolution']\n",
    "\n",
    "test_id = f'genethres_{ingroup_threshold}_{outgroup_threshold}_pc{n_pcs}_cr{cluster_resolution}'\n",
    "save_embedding = True\n",
    "\n",
    "sc.pp.neighbors(sdata, n_neighbors=n_neighbors, n_pcs=n_pcs)\n",
    "\n",
    "# Run UMAP\n",
    "sc.tl.tsne(sdata, n_pcs=n_pcs, perplexity=5)\n",
    "sc.tl.umap(sdata, min_dist=min_dist)\n",
    "sc.tl.diffmap(sdata, n_comps=n_pcs)\n",
    "\n",
    "# Run leiden cluster\n",
    "sc.tl.leiden(sdata, resolution = cluster_resolution, random_state=0)"
   ]
  },
  {
   "cell_type": "code",
   "execution_count": null,
   "id": "f8fcaeee-93e3-43c6-9a62-4db31638161c",
   "metadata": {},
   "outputs": [],
   "source": [
    "# # merge clusters\n",
    "# sdata.obs['leiden'] = sdata.obs['leiden'].astype(object)\n",
    "# sdata.obs.loc[sdata.obs['leiden'] == '4', 'leiden'] = '0'\n",
    "# sdata.obs.loc[sdata.obs['leiden'] == '2', 'leiden'] = '1'\n",
    "# sdata.obs.loc[sdata.obs['leiden'] == '5', 'leiden'] = '3'\n",
    "# sdata.obs['leiden'] = sdata.obs['leiden'].astype('category')"
   ]
  },
  {
   "cell_type": "code",
   "execution_count": null,
   "id": "b7be1693-2631-4086-ad03-248bed715d49",
   "metadata": {},
   "outputs": [],
   "source": [
    "%%time\n",
    "# Plot UMAP with cluster labels \n",
    "fig, axs = plt.subplots(3, 3, figsize=(15, 12))\n",
    "axs = axs.flatten()\n",
    "sc.pl.tsne(sdata, color='leiden', ax=axs[0], show=False, legend_loc=None)\n",
    "sc.pl.umap(sdata, color='leiden', ax=axs[1], show=False, legend_loc=None)\n",
    "sc.pl.diffmap(sdata, color='leiden', ax=axs[2], show=False)\n",
    "sc.pl.tsne(sdata, color='Gfap', ax=axs[3], show=False)\n",
    "sc.pl.umap(sdata, color='Gfap', ax=axs[4], show=False)\n",
    "sc.pl.diffmap(sdata, color='Gfap', ax=axs[5], show=False)\n",
    "sc.pl.tsne(sdata, color='Vim', ax=axs[6], show=False)\n",
    "sc.pl.umap(sdata, color='Vim', ax=axs[7], show=False)\n",
    "sc.pl.diffmap(sdata, color='Vim', ax=axs[8], show=False)\n",
    "plt.show()\n",
    "\n",
    "n_clusters = sdata.obs['leiden'].unique().shape[0]\n",
    "\n",
    "if save_embedding:\n",
    "    \n",
    "    # Save log\n",
    "    with open(f'{sub_level_fig_path}/log_{test_id}.txt', 'w') as f:\n",
    "        f.write(f\"\"\"Number of neighbor: {n_neighbors}\n",
    "    Number of PC: {n_pcs}\n",
    "    Resolution: {cluster_resolution}\n",
    "    Min-distance: {min_dist}\n",
    "    Number of clusters: {n_clusters}\"\"\")\n",
    "\n",
    "    print(f\"\"\"Number of neighbor: {n_neighbors}\n",
    "Number of PC: {n_pcs}\n",
    "Resolution: {cluster_resolution}\n",
    "Min-distance: {min_dist}\n",
    "Number of clusters: {n_clusters}\"\"\")\n",
    "    \n",
    "    # save embeddings\n",
    "    np.savetxt(f'{sub_level_fig_path}/pca_{test_id}.csv', sdata.obsm['X_pca'], delimiter=\",\")\n",
    "    np.savetxt(f'{sub_level_fig_path}/tsne_{test_id}.csv', sdata.obsm['X_tsne'], delimiter=\",\")\n",
    "    np.savetxt(f'{sub_level_fig_path}/umap_{test_id}.csv', sdata.obsm['X_umap'], delimiter=\",\")\n",
    "    np.savetxt(f'{sub_level_fig_path}/diffmap_{test_id}.csv', sdata.obsm['X_diffmap'], delimiter=\",\")\n",
    "    \n",
    "# Find gene markers \n",
    "# Add log layer\n",
    "sdata.layers['log_raw'] = np.log1p(sdata.layers['raw'])\n",
    "sc.pp.normalize_total(sdata, layer='log_raw')\n",
    "\n",
    "# Find gene markers for each cluster\n",
    "sc.tl.rank_genes_groups(sdata, 'leiden', method='wilcoxon', layer='log_raw', pts=True, use_raw=False, n_genes=sdata.shape[1])\n",
    "\n",
    "# Filter markers\n",
    "sc.tl.filter_rank_genes_groups(sdata, min_fold_change=.1, min_in_group_fraction=0.15, max_out_group_fraction=0.85)\n",
    "\n",
    "marker_genes_dict = {}\n",
    "\n",
    "# Add other markers\n",
    "common_markers = ['Aldoc', 'Slc1a3']\n",
    "marker_genes_dict[sub_id] = common_markers\n",
    "\n",
    "temp = pd.DataFrame(sdata.uns['rank_genes_groups_filtered']['names']).head(10)\n",
    "temp_genes = []\n",
    "for i in range(temp.shape[1]):\n",
    "    current_genes = temp.iloc[:, i].to_list()\n",
    "    current_genes = [x for x in current_genes if str(x) != 'nan']\n",
    "    current_genes = [x for x in current_genes if x not in temp_genes]\n",
    "    \n",
    "    for j in current_genes:\n",
    "        temp_genes.append(j)\n",
    "        \n",
    "    current_key = temp.columns[i]\n",
    "    marker_genes_dict[current_key] = current_genes\n",
    "\n",
    "sdata.obs['leiden-replicate'] = sdata.obs['leiden'].astype(str) + '-' + sdata.obs['replicate'].astype(str)\n",
    "sdata.obs['leiden-replicate'] = sdata.obs['leiden-replicate'].astype('category')\n",
    "\n",
    "sc.pl.dotplot(sdata, marker_genes_dict, 'leiden-replicate', dendrogram=False, cmap='Reds', standard_scale='group', swap_axes=True)"
   ]
  },
  {
   "cell_type": "code",
   "execution_count": null,
   "id": "d584dc3b-4a4c-402f-b2ef-a0b3380d8af3",
   "metadata": {},
   "outputs": [],
   "source": [
    "sc.pl.umap(sdata, color='replicate')\n",
    "sc.pl.umap(sdata, color='total_counts')\n",
    "sc.pl.umap(sdata, color='Luzp2')\n",
    "sc.pl.diffmap(sdata, color='Luzp2')"
   ]
  },
  {
   "cell_type": "code",
   "execution_count": null,
   "id": "5031d18e-fc10-47f0-9ddf-5067873bc49a",
   "metadata": {},
   "outputs": [],
   "source": [
    "fig, ax = plt.subplots(figsize=(10,10), ncols=1, nrows=1)\n",
    "a = pd.crosstab(sdata.obs.cell_type, sdata.obs.leiden)\n",
    "sns.heatmap(a, annot=True, fmt='d', ax=ax)"
   ]
  },
  {
   "cell_type": "code",
   "execution_count": null,
   "id": "f1951255-ca4b-4f20-a9ca-aae7109076e2",
   "metadata": {},
   "outputs": [],
   "source": [
    "sc.pl.dotplot(sdata, marker_genes_dict, 'leiden-replicate', dendrogram=False, cmap='Reds', standard_scale='group', swap_axes=True, layer='raw', vmax=1)\n",
    "sc.pl.matrixplot(sdata, marker_genes_dict, 'leiden-replicate', dendrogram=False, cmap='Reds', standard_scale='group', swap_axes=True)\n"
   ]
  },
  {
   "cell_type": "code",
   "execution_count": null,
   "id": "8aa74d43-55cb-4540-ac4b-d1cba358f313",
   "metadata": {},
   "outputs": [],
   "source": [
    "sc.pl.umap(sdata, color='Aqp4')\n",
    "sc.pl.diffmap(sdata, color='Aqp4')"
   ]
  },
  {
   "cell_type": "code",
   "execution_count": null,
   "id": "1536157c-e16f-44af-abc3-725908c12fce",
   "metadata": {},
   "outputs": [],
   "source": [
    "customized_dict = {'0': ['Aldoc', 'Slc1a3', 'Ttyh1', 'Glud1'],\n",
    "                  '1': ['Tspan7', 'Htra1', 'Caskin1', 'Cxcl14', 'S1pr1', 'Ndrg2', 'Vegfa', 'Trim9'],\n",
    "                  '2': ['Gfap', 'Vim', 'Clu', 'Igfbp5', 'Cd63', 'Apoe', 'Ntrk2', ]}\n",
    "\n",
    "sc.pl.dotplot(sdata, customized_dict, 'leiden-replicate', dendrogram=False, cmap='bwr', standard_scale='group', swap_axes=True, \n",
    "              layer='raw', vmax=.25, vmin=0)\n",
    "sc.pl.matrixplot(sdata, customized_dict, 'leiden-replicate', dendrogram=False, cmap='Reds', standard_scale='gene', swap_axes=True)"
   ]
  },
  {
   "cell_type": "code",
   "execution_count": null,
   "id": "e6bf8702-c743-4fc8-8823-4222c7446803",
   "metadata": {},
   "outputs": [],
   "source": [
    "markers = ['Aldoc', 'Slc1a3', 'Gfap', 'Vim', 'Clu', 'Igfbp5', 'Cd63', 'Apoe', 'Fxyd1', 'Ntrk2', 'Ctsb']\n",
    "sc.pl.stacked_violin(sdata, markers, groupby='leiden', dendrogram=False, swap_axes=True, layer='raw', log=False, vmax=.01,\n",
    "                        cmap='bwr')"
   ]
  },
  {
   "cell_type": "code",
   "execution_count": null,
   "id": "2aa819df-5c2e-4b0b-8138-f9f08e70d71b",
   "metadata": {},
   "outputs": [],
   "source": [
    "current_cell_type = '2'\n",
    "\n",
    "current_df = sc.get.rank_genes_groups_df(sdata, group=current_cell_type, key='rank_genes_groups_filtered')\n",
    "current_df.head(50)"
   ]
  },
  {
   "cell_type": "code",
   "execution_count": null,
   "id": "6bab59cd-ddb2-4dd2-bd2f-7a9da248a2bc",
   "metadata": {},
   "outputs": [],
   "source": [
    "# save clustering results\n",
    "\n",
    "with pd.ExcelWriter(os.path.join(fig_path, f'{sub_id}_clustering_markers.xlsx'), mode='w') as writer:  \n",
    "    for current_cell_type in sdata.obs.leiden.cat.categories:\n",
    "        current_df = sc.get.rank_genes_groups_df(sdata, group=current_cell_type, key='rank_genes_groups_filtered')\n",
    "        current_df.to_excel(writer, sheet_name=f'{sub_id}_{current_cell_type}')\n",
    "    "
   ]
  },
  {
   "cell_type": "code",
   "execution_count": null,
   "id": "10055219-afb7-4d14-9f93-1d121cd0b1b6",
   "metadata": {},
   "outputs": [],
   "source": [
    "sub_count_sample = pd.DataFrame(index=sdata.obs['leiden'].cat.categories.to_list(), columns=sdata.obs['sample'].cat.categories.to_list())\n",
    "\n",
    "for sample in sdata.obs['sample'].cat.categories:\n",
    "    print(sample)\n",
    "    current_obs = sdata.obs.loc[sdata.obs['sample'] == sample, :]\n",
    "    current_count = current_obs['leiden'].value_counts()\n",
    "    sub_count_sample.loc[:, sample] = current_count\n",
    "\n",
    "sub_count_sample['leiden'] = sub_count_sample.index.values\n",
    "sub_count_sample_melt = pd.melt(sub_count_sample, id_vars=['leiden'], value_vars=adata.obs['sample'].cat.categories.to_list())\n",
    "sub_count_sample_melt.columns = ['leiden', 'sample', 'value']\n",
    "sub_count_sample_melt['time-group'] = sub_count_sample_melt['sample'].values\n",
    "time_group_dict = {\n",
    "    'ADmouse_9723': '8months-disease', 'ADmouse_9735': '8months-control', 'ADmouse_9494': '13months-disease', 'ADmouse_9498': '13months-control', \n",
    "    'ADmouse_9723_2': '8months-disease', 'ADmouse_9707': '8months-control', 'ADmouse_11346': '13months-disease', 'ADmouse_11351': '13months-control', \n",
    "                  }\n",
    "sub_count_sample_melt['time-group'] = sub_count_sample_melt['time-group'].map(time_group_dict)\n",
    "sub_count_sample_melt[['time', 'group']] = sub_count_sample_melt['time-group'].str.split('-', 1, expand=True)\n",
    "sub_count_sample_melt['group'] = sub_count_sample_melt['group'].astype('category')\n",
    "sub_count_sample_melt['type-group'] = sub_count_sample_melt['leiden'].astype(str) + '-' + sub_count_sample_melt['group'].astype(str)\n",
    "sub_count_sample_melt['type-group'] = sub_count_sample_melt['type-group'].astype('category')\n",
    "\n",
    "sub_count_sample_melt['leiden'] = sub_count_sample_melt['leiden'].astype('category')\n",
    "sub_count_sample_melt['code'] = sub_count_sample_melt['leiden'].cat.codes\n",
    "sub_count_sample_melt.loc[sub_count_sample_melt['group'] == 'disease', 'code'] = sub_count_sample_melt.loc[sub_count_sample_melt['group'] == 'disease', 'code'] + 0.2\n",
    "sub_count_sample_melt.loc[sub_count_sample_melt['group'] == 'control', 'code'] = sub_count_sample_melt.loc[sub_count_sample_melt['group'] == 'control', 'code'] - 0.2\n",
    "\n",
    "# plot barplot\n",
    "\n",
    "sns.reset_orig()\n",
    "cf_pl = sns.color_palette(['#00bfc4', '#f8766d'])\n",
    "fig, ax = plt.subplots(figsize=(10, 7))\n",
    "alternative = 'less'\n",
    "\n",
    "sns.barplot(x='leiden', y='value', hue='group', data=sub_count_sample_melt, palette=cf_pl, ax=ax)\n",
    "sns.scatterplot(x=\"code\", y=\"value\", hue='group', data=sub_count_sample_melt, s=70, facecolors='white', edgecolor='black', ax=ax, legend=False, zorder=2)\n",
    "\n",
    "pairs = [((current_type, 'disease'), (current_type, 'control')) for current_type in sdata.obs['leiden'].cat.categories]\n",
    "\n",
    "annot = Annotator(ax, pairs, plot='barplot', data=sub_count_sample_melt, x='leiden', y='value', hue='group')\n",
    "annot.configure(test='t-test_ind', text_format='star', loc='inside', verbose=2)\n",
    "annot.apply_test(alternative=alternative).annotate()\n",
    "\n",
    "# plt.savefig(os.path.join(fig_path, f'cluster_freq_{sub_id}_group.pdf'))\n",
    "\n",
    "plt.show()"
   ]
  },
  {
   "cell_type": "code",
   "execution_count": null,
   "id": "3723573a-e278-49ae-b544-f7be0f93c045",
   "metadata": {},
   "outputs": [],
   "source": [
    "sub_count_sample"
   ]
  },
  {
   "cell_type": "code",
   "execution_count": null,
   "id": "784f0829-f3ff-4e99-b330-6dd646bc3834",
   "metadata": {},
   "outputs": [],
   "source": [
    "sns.scatterplot('x', 'y', hue='top_level', data=adata.obs.loc[adata.obs['sample'] == 'ADmouse_9494', :])"
   ]
  },
  {
   "cell_type": "code",
   "execution_count": null,
   "id": "068f55d8-087a-490e-9049-0a13b60db8aa",
   "metadata": {},
   "outputs": [],
   "source": [
    "sns.scatterplot('x', 'y', hue='leiden', data=sdata.obs.loc[sdata.obs['sample'] == 'ADmouse_9494', :])"
   ]
  },
  {
   "cell_type": "code",
   "execution_count": null,
   "id": "5996bdc3-51bc-45d5-8cd9-5e685a698efa",
   "metadata": {},
   "outputs": [],
   "source": [
    "adata.obs['cell_type_test'] = 'NA'"
   ]
  },
  {
   "cell_type": "code",
   "execution_count": null,
   "id": "5d847d76-52ce-46b1-9c05-ab96af60b8c7",
   "metadata": {},
   "outputs": [],
   "source": [
    "# save current results \n",
    "sdata.obs['cell_type_test'] = sdata.obs['leiden'].values\n",
    "sdata.obs['cell_type_test'] = sdata.obs['cell_type_test'].map({'0': 'Astro1', '1': 'Astro2', '2': 'Astro3'})\n",
    "adata.obs.loc[adata.obs['top_level'] == sub_id, 'cell_type_test'] = sdata.obs['cell_type_test'].values"
   ]
  },
  {
   "cell_type": "code",
   "execution_count": null,
   "id": "27612a65-d675-4e5f-b06c-bdc829f7c307",
   "metadata": {},
   "outputs": [],
   "source": [
    "adata.obs.cell_type_test.value_counts()"
   ]
  },
  {
   "cell_type": "code",
   "execution_count": null,
   "id": "c36b60bb-08bd-4632-84a9-b80cea613072",
   "metadata": {},
   "outputs": [],
   "source": [
    "out_path"
   ]
  },
  {
   "cell_type": "code",
   "execution_count": null,
   "id": "9d6f021c-130a-4bce-b1b6-17c498c6c153",
   "metadata": {},
   "outputs": [],
   "source": [
    "adata.write_h5ad(os.path.join(out_path, '2022-08-28-Hu-AD-stardist-scaled.h5ad'))"
   ]
  },
  {
   "cell_type": "code",
   "execution_count": null,
   "id": "769019a9-938c-453e-8d9d-dbe465f2eb75",
   "metadata": {},
   "outputs": [],
   "source": []
  }
 ],
 "metadata": {
  "kernelspec": {
   "display_name": "Python 3 (ipykernel)",
   "language": "python",
   "name": "python3"
  },
  "language_info": {
   "codemirror_mode": {
    "name": "ipython",
    "version": 3
   },
   "file_extension": ".py",
   "mimetype": "text/x-python",
   "name": "python",
   "nbconvert_exporter": "python",
   "pygments_lexer": "ipython3",
   "version": "3.8.12"
  }
 },
 "nbformat": 4,
 "nbformat_minor": 5
}
