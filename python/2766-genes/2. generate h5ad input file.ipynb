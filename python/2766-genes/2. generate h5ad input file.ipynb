{
 "cells": [
  {
   "cell_type": "markdown",
   "id": "5f6229c6-9d70-4fb8-a38d-3bd1e9552f4e",
   "metadata": {},
   "source": [
    "# Generate h5ad input file"
   ]
  },
  {
   "cell_type": "code",
   "execution_count": null,
   "id": "e125ee3c-c228-49d1-8cf0-c2eea1477bd0",
   "metadata": {},
   "outputs": [],
   "source": [
    "# Loading the Packages\n",
    "\n",
    "%load_ext autoreload\n",
    "%autoreload 2\n",
    "\n",
    "import os\n",
    "import warnings \n",
    "warnings.filterwarnings('ignore')\n",
    "import numpy as np\n",
    "import pandas as pd\n",
    "import scanpy as sc\n",
    "import seaborn as sns\n",
    "\n",
    "# from starmap.obj import STARMapDataset, load_data\n",
    "# import starmap.analyze as anz\n",
    "# import starmap.viz as viz\n",
    "import starmap.sc_util as su\n",
    "import matplotlib.pyplot as plt\n",
    "from matplotlib.colors import ListedColormap\n",
    "\n",
    "# test\n",
    "from starmap.utilities import *\n",
    "from starmap.sequencing import *\n",
    "from anndata import AnnData\n",
    "\n",
    "# test()"
   ]
  },
  {
   "cell_type": "code",
   "execution_count": null,
   "id": "a6819ed2-2c63-4bc5-b0bb-b5cad3d9bc69",
   "metadata": {},
   "outputs": [],
   "source": [
    "import matplotlib\n",
    "matplotlib.rcParams['pdf.fonttype'] = 42"
   ]
  },
  {
   "cell_type": "markdown",
   "id": "97d486cf-7f2b-434c-a1ee-949a08df3147",
   "metadata": {},
   "source": [
    "## IO"
   ]
  },
  {
   "cell_type": "code",
   "execution_count": null,
   "id": "e4cb9e3c-c4e8-4583-909a-5b322198bede",
   "metadata": {},
   "outputs": [],
   "source": [
    "# Set path\n",
    "base_path = 'Z:/Data/Analyzed/2022-01-03-Hu-AD/'\n",
    "out_path = os.path.join(base_path, 'output')\n",
    "fig_path = os.path.join(base_path, 'figures')\n",
    "\n",
    "out_path = os.path.join(base_path, 'output')\n",
    "if not os.path.exists(out_path):\n",
    "    os.mkdir(out_path)\n",
    "    \n",
    "fig_path = os.path.join(base_path, 'figures')\n",
    "if not os.path.exists(fig_path):\n",
    "    os.mkdir(fig_path)"
   ]
  },
  {
   "cell_type": "code",
   "execution_count": null,
   "id": "ad005a27-a33c-4c49-beda-49753415c07e",
   "metadata": {},
   "outputs": [],
   "source": [
    "# Load data\n",
    "\n",
    "expr_path = os.path.join(out_path, 'complete_cell_barcode_count.csv')\n",
    "var_path = os.path.join(out_path, 'cell_barcode_names.csv')\n",
    "obs_path = os.path.join(out_path, 'complete_meta.csv')\n",
    "\n",
    "# Add expression data to the AnnData object \n",
    "expr_x = np.loadtxt(expr_path, delimiter=',')\n",
    "var = pd.read_csv(var_path, header=None)\n",
    "var = pd.DataFrame(index=var.iloc[:,2].to_list())\n",
    "obs = pd.read_csv(obs_path, index_col=0)\n",
    "\n",
    "adata = AnnData(X=expr_x, var=var, obs=obs)"
   ]
  },
  {
   "cell_type": "code",
   "execution_count": null,
   "id": "1d90ffc5-8661-41ac-bfb4-d7b6347cb4bc",
   "metadata": {},
   "outputs": [],
   "source": [
    "adata"
   ]
  },
  {
   "cell_type": "markdown",
   "id": "bc26454a-9f46-4efa-9be7-cacf690f8710",
   "metadata": {},
   "source": [
    "## Modify annotation"
   ]
  },
  {
   "cell_type": "code",
   "execution_count": null,
   "id": "15b6fca1-1f0a-43b5-b4e8-b4fec8ea6452",
   "metadata": {},
   "outputs": [],
   "source": [
    "adata.obs['temp'] = adata.obs['sample'].values\n",
    "adata.obs[['temp', 'sample']] = adata.obs['temp'].str.split('-', 1, expand=True)\n",
    "adata.obs[['temp', 'group']] = adata.obs['temp'].str.split('_', 1, expand=True)\n",
    "adata.obs['time'] = adata.obs['temp'].values\n",
    "adata.obs = adata.obs.drop(columns=['temp'])"
   ]
  },
  {
   "cell_type": "code",
   "execution_count": null,
   "id": "7ff4c4c3-2168-4564-a8e7-643f335fd46d",
   "metadata": {},
   "outputs": [],
   "source": [
    "# change obs columns to categorical variable \n",
    "sample_list = ['ADmouse_9723', 'ADmouse_9735', 'ADmouse_9494', 'ADmouse_9498', 'ADmouse_9723_2', 'ADmouse_9707', 'ADmouse_11346', 'ADmouse_11351']\n",
    "batch_list = ['batch_1', 'batch_1', 'batch_2', 'batch_2', 'batch_3', 'batch_4', 'batch_4', 'batch_4']\n",
    "batch_dict = dict(zip(sample_list, batch_list))\n",
    "\n",
    "adata.obs['sample'] = adata.obs['sample'].astype('category')\n",
    "adata.obs['sample'] = adata.obs['sample'].cat.reorder_categories(sample_list)\n",
    "\n",
    "adata.obs['batch'] = adata.obs['sample'].values\n",
    "adata.obs['batch'] = adata.obs['batch'].map(batch_dict)\n",
    "adata.obs['batch'] = adata.obs['batch'].astype('category')\n",
    "adata.obs['batch'] = adata.obs['batch'].cat.reorder_categories(['batch_1', 'batch_2', 'batch_3', 'batch_4'])\n",
    "\n",
    "adata.obs['time'] = adata.obs['time'].astype('category')\n",
    "adata.obs['time'] = adata.obs['time'].cat.reorder_categories(['8months', '13months'])\n",
    "\n",
    "adata.obs['group'] = adata.obs['group'].astype('category')\n",
    "adata.obs['group'] = adata.obs['group'].cat.reorder_categories(['disease', 'control'])"
   ]
  },
  {
   "cell_type": "markdown",
   "id": "c3ff9c3b-22c5-4c12-abe7-5bcbdf884cbf",
   "metadata": {
    "tags": []
   },
   "source": [
    "## Quality assessment"
   ]
  },
  {
   "cell_type": "markdown",
   "id": "bd15553b-a3be-4ee3-a878-23146dc03bb3",
   "metadata": {},
   "source": [
    "### Statistics"
   ]
  },
  {
   "cell_type": "code",
   "execution_count": null,
   "id": "b39f9437-991d-499a-ae0b-f95faa46b071",
   "metadata": {},
   "outputs": [],
   "source": [
    "# Plot top 20 most expressed genes (before qc)\n",
    "sc.pl.highest_expr_genes(adata, n_top=20)"
   ]
  },
  {
   "cell_type": "code",
   "execution_count": null,
   "id": "f42b5528-bae7-4a73-ae05-c15e605dfd7c",
   "metadata": {},
   "outputs": [],
   "source": [
    "# Calculate QC metrics\n",
    "sc.pp.calculate_qc_metrics(adata, percent_top=None, inplace=True)\n",
    "\n",
    "# Calculate max count for each gene\n",
    "adata.var['max_counts'] = adata.X.max(axis=0)"
   ]
  },
  {
   "cell_type": "code",
   "execution_count": null,
   "id": "6bafed21-9c15-4d1c-8453-a42f073849df",
   "metadata": {},
   "outputs": [],
   "source": [
    "# Total counts describe statistics\n",
    "adata.obs['total_counts'].describe()"
   ]
  },
  {
   "cell_type": "code",
   "execution_count": null,
   "id": "cdc217d3-8eba-4801-9559-a72a3632ac3d",
   "metadata": {},
   "outputs": [],
   "source": [
    "adata.obs['log1p_total_counts'].describe()"
   ]
  },
  {
   "cell_type": "code",
   "execution_count": null,
   "id": "8ee945a0-3ba3-4043-a11f-f27a66339cb4",
   "metadata": {},
   "outputs": [],
   "source": [
    "from scipy import stats\n",
    "n = 3\n",
    "mad = stats.median_absolute_deviation(adata.obs['log1p_total_counts'], scale=1)\n",
    "lower_bd = adata.obs['log1p_total_counts'].median() - n*mad\n",
    "upper_bd = adata.obs['log1p_total_counts'].median() + n*mad\n",
    "\n",
    "print(lower_bd)\n",
    "print(upper_bd)\n",
    "print(np.expm1(lower_bd))\n",
    "print(np.expm1(upper_bd))"
   ]
  },
  {
   "cell_type": "code",
   "execution_count": null,
   "id": "59131a23-5c6c-4dc0-8f98-3f1e0879e076",
   "metadata": {},
   "outputs": [],
   "source": [
    "sns.histplot(adata.obs['log1p_total_counts'])\n",
    "plt.axvline(lower_bd, c='r')\n",
    "plt.axvline(upper_bd, c='r')\n",
    "plt.savefig(os.path.join(fig_path, 'reads_filtering_threshold.pdf'))\n",
    "plt.show()"
   ]
  },
  {
   "cell_type": "code",
   "execution_count": null,
   "id": "f0cd41ce-ba26-4bac-bb7b-f4a103335012",
   "metadata": {},
   "outputs": [],
   "source": [
    "# Total counts describe statistics\n",
    "adata.var['total_counts'].describe()"
   ]
  },
  {
   "cell_type": "code",
   "execution_count": null,
   "id": "63b89bb6-f312-4d49-a23b-5353655fdfd9",
   "metadata": {},
   "outputs": [],
   "source": [
    "# max counts describe statistics\n",
    "adata.var['max_counts'].describe()"
   ]
  },
  {
   "cell_type": "code",
   "execution_count": null,
   "id": "8b763b94-a5d4-49cd-8e81-7c6aba61c104",
   "metadata": {},
   "outputs": [],
   "source": [
    "# Per-cell Stats Plot\n",
    "\n",
    "su.plot_stats_per_cell(adata, color='sample', save=os.path.join(fig_path, 'cell_stats_before_filtering.pdf'))"
   ]
  },
  {
   "cell_type": "code",
   "execution_count": null,
   "id": "c3e5b0ab-afd2-4948-80a4-69cf68e8e135",
   "metadata": {},
   "outputs": [],
   "source": [
    "# Get quantiles of reads\n",
    "su.show_reads_quantile(adata)"
   ]
  },
  {
   "cell_type": "code",
   "execution_count": null,
   "id": "d8e7339e-1cba-442e-8b8b-a7f6ab8195f6",
   "metadata": {},
   "outputs": [],
   "source": [
    "reads_per_cell = adata.obs['total_counts']\n",
    "genes_per_cell = adata.obs['n_genes_by_counts']\n",
    "\n",
    "fig, ax = plt.subplots(figsize=(5,5))\n",
    "plt.title(\n",
    "    'R=%f' % np.corrcoef(reads_per_cell.T, genes_per_cell)[0, 1])  # Pearson product-moment correlation coefficients\n",
    "sns.scatterplot(data=adata.obs, x='total_counts', y='n_genes_by_counts', hue='sample', s=5)\n",
    "plt.xlabel(\"Reads per cell\")\n",
    "plt.ylabel(\"Genes per cell\")\n",
    "plt.legend(loc='lower right')\n",
    "plt.tight_layout()\n",
    "plt.savefig(os.path.join(fig_path, 'test.eps'))\n",
    "plt.show()"
   ]
  },
  {
   "cell_type": "markdown",
   "id": "5d4920b5-5bdf-44a6-8d83-4b394a763d2a",
   "metadata": {},
   "source": [
    "### Filtration"
   ]
  },
  {
   "cell_type": "code",
   "execution_count": null,
   "id": "e4b0b78c-e4b8-4534-856d-7fbfbee525cc",
   "metadata": {},
   "outputs": [],
   "source": [
    "# Filter gene by max counts \n",
    "adata.var['detected'] = adata.var['max_counts'] > 2\n",
    "adata.var['highly_variable'] = adata.var['max_counts'] > 2\n",
    "print(adata.var['detected'].sum())"
   ]
  },
  {
   "cell_type": "code",
   "execution_count": null,
   "id": "0a27ad09-45b5-463a-b902-b4a2dca0eb3b",
   "metadata": {},
   "outputs": [],
   "source": [
    "# Filtration \n",
    "sc.pp.filter_cells(adata, min_genes=10)\n",
    "sc.pp.filter_genes(adata, min_cells=10)\n",
    "\n",
    "# # Filter gene by max counts \n",
    "# adata = adata[:, adata.var['max_counts'] > 2]\n",
    "\n",
    "sc.pp.filter_cells(adata, min_counts=np.expm1(lower_bd))\n",
    "sc.pp.filter_cells(adata, max_counts=np.expm1(upper_bd))\n",
    "\n",
    "adata.layers['raw'] = adata.X\n",
    "adata.X.shape"
   ]
  },
  {
   "cell_type": "code",
   "execution_count": null,
   "id": "5f66f39d-7020-4674-b3bc-4c5e7023522d",
   "metadata": {},
   "outputs": [],
   "source": [
    "# Per-cell Stats Plot\n",
    "\n",
    "su.plot_stats_per_cell(adata, color='sample', save=os.path.join(fig_path, 'cell_stats_after_filtering.pdf'))"
   ]
  },
  {
   "cell_type": "code",
   "execution_count": null,
   "id": "1404b317-380c-4678-b42b-a8b0fbc3f695",
   "metadata": {},
   "outputs": [],
   "source": [
    "# Get quantiles of reads\n",
    "su.show_reads_quantile(adata)"
   ]
  },
  {
   "cell_type": "code",
   "execution_count": null,
   "id": "0db3ebbe-e32f-4666-b0b5-854d7f8b1d08",
   "metadata": {},
   "outputs": [],
   "source": [
    "sc.pl.correlation_matrix(adata, 'sample', figsize=(5,3.5))"
   ]
  },
  {
   "cell_type": "markdown",
   "id": "818176ee-801b-40f4-bbe1-14b43f128daa",
   "metadata": {},
   "source": [
    "### Output"
   ]
  },
  {
   "cell_type": "code",
   "execution_count": null,
   "id": "4f2b29e0-bf75-4312-8fd4-b47a82f0ab6b",
   "metadata": {},
   "outputs": [],
   "source": [
    "# save combined h5ad\n",
    "from datetime import datetime\n",
    "date = datetime.today().strftime('%Y-%m-%d')\n",
    "adata.write_h5ad(f\"{out_path}/{date}-Hu-AD-stardist-filtered-{n}mad.h5ad\")"
   ]
  },
  {
   "cell_type": "code",
   "execution_count": null,
   "id": "419894cf-cdf1-4fa9-b583-8a130dc1a147",
   "metadata": {},
   "outputs": [],
   "source": []
  }
 ],
 "metadata": {
  "kernelspec": {
   "display_name": "Python 3 (ipykernel)",
   "language": "python",
   "name": "python3"
  },
  "language_info": {
   "codemirror_mode": {
    "name": "ipython",
    "version": 3
   },
   "file_extension": ".py",
   "mimetype": "text/x-python",
   "name": "python",
   "nbconvert_exporter": "python",
   "pygments_lexer": "ipython3",
   "version": "3.8.12"
  }
 },
 "nbformat": 4,
 "nbformat_minor": 5
}
